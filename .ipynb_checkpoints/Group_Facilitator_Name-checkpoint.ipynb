{
 "cells": [
  {
   "cell_type": "markdown",
   "id": "afddebbb",
   "metadata": {},
   "source": [
    "<h2>   \n",
    "      <font color = blue >\n",
    "            <span style='font-family:Georgia'>\n",
    "            Table of Contents:\n",
    "            </span>   \n",
    "        </font>    \n",
    "</h2>\n",
    "<span style='font-family:Georgia'>\n",
    "    <ol>\n",
    "        <li><a href='#intro'>Introduction</a></li>\n",
    "        <li><a href='#libraries'>Getting Jupyter Ready</a></li>\n",
    "        <li><a href='#import'>Reading & Understanding the data</a></li>\n",
    "        <ol>\n",
    "            <li><a href='#input'>Importing the input files</a></li>\n",
    "            <li><a href='#inspect'>Inspect Data Frames</a></li>\n",
    "        </ol>\n",
    "        <li><a href='#clean'>Data Cleaning & Manipulation</a></li>\n",
    "        <ol>\n",
    "            <li><a href='#duplication'>Duplicate Row Check</a></li>\n",
    "            <li><a href='#null'>Null Value Calculation</a></li>\n",
    "            <li><a href='#unnecessarycols'>Analyze & Delete Unnecessary Columns</a></li>\n",
    "            <li><a href='#stdval'>Standardize Values</a></li>\n",
    "            <li><a href='#outlier'>Outlier Identification and Removal</a></li>\n",
    "        </ol>\n",
    "        <li><a href='#analysis'>Data Analysis</a></li>\n",
    "        <ol>\n",
    "            <li><a href='#imbalance'>Imbalance Analysis</a></li>\n",
    "            <li><a href='#pltfunc'>Plotting Functions</a></li>\n",
    "            <li><a href='#bins'>Creating Bins</a></li>\n",
    "            <li><a href='#catvar'>Categorical and Segmented Variables Analysis</a></li>\n",
    "            <li><a href='#numvar'>Numeric Variables Analysis</a></li>\n",
    "            <li><a href='#multivar'>Multi Variables Analysis</a></li>\n",
    "        </ol>\n",
    "        <li><a href='#conclusion'>Conclusions</a></li>\n",
    "    </ol>\n",
    "</span>\n",
    "    "
   ]
  },
  {
   "cell_type": "markdown",
   "id": "272e588b",
   "metadata": {},
   "source": [
    "<a id=\"intro\"></a>\n",
    "<h2>   \n",
    "      <font color = blue >\n",
    "            <span style='font-family:Georgia'>\n",
    "            1. Introduction:\n",
    "            </span>   \n",
    "        </font>    \n",
    "</h2>"
   ]
  },
  {
   "cell_type": "markdown",
   "id": "c75215e6",
   "metadata": {},
   "source": [
    "<a id=\"intro\"></a>\n",
    "<h3 >   \n",
    "      <font color = purple >\n",
    "            <span style='font-family:Georgia'>\n",
    "            Introduction:\n",
    "            </span>   \n",
    "        </font>    \n",
    "</h3>\n",
    "<p>\n",
    "    <span style='font-family:Georgia'>\n",
    "    This case study aims to give an idea of applying EDA in a real business scenario. In this case study, we will develop a basic understanding of risk analytics in banking and financial services and understand how data is used to minimise the risk of losing money while lending to customers.\n",
    "    </span>\n",
    "</p>   \n",
    "<hr>\n",
    "<h3>\n",
    "    <font color = purple >\n",
    "        <span style='font-family:Georgia'>\n",
    "            Business Understanding:\n",
    "            </span>   \n",
    "        </font>    \n",
    "</h3>\n",
    "<p>\n",
    "    <span style='font-family:Georgia'>\n",
    "    The loan providing companies find it hard to give loans to the people due to their insufficient or non-existent credit history. Because of that, some consumers use it as their advantage by becoming a defaulter. Suppose you work for a consumer finance company which specialises in lending various types of loans to urban customers. You have to use EDA to analyse the patterns present in the data. This will ensure that the applicants capable of repaying the loan are not rejected.<br>\n",
    "        When the company receives a loan application, the company has to decide for loan approval based on the applicant’s profile. Two types of risks are associated with the bank’s decision:\n",
    "    </span>\n",
    "</p>\n",
    "<ul>\n",
    "    <span style='font-family:Georgia'>\n",
    "        <li>If the applicant is likely to repay the loan, then not approving the loan results in a loss of business to the company</li>\n",
    "        <li>If the applicant is not likely to repay the loan, i.e. he/she is likely to default, then approving the loan may lead to a financial loss for the company.</li>\n",
    "    </span>\n",
    "</ul>\n",
    "    \n",
    "<p><span style='font-family:Georgia'>The data given below contains the information about the loan application at the time of applying for the loan. It contains two types of scenarios:</span></p>\n",
    "<ul>\n",
    "    <span style='font-family:Georgia'> \n",
    "        <li><b>The client with payment difficulties:</b> he/she had late payment more than X days on at least one of the first Y instalments of the loan in our sample</li>\n",
    "        <li><b>All other cases:</b> All other cases when the payment is paid on time</li>\n",
    "    </span>\n",
    "</ul>\n",
    "    \n",
    "<p><span style='font-family:Georgia'>When a client applies for a loan, there are four types of decisions that could be taken by the client/company):</span></p>\n",
    "\n",
    "<ol>\n",
    "    <span style='font-family:Georgia'>\n",
    "        <li><b>Approved:</b> The Company has approved loan Application</li>\n",
    "        <li><b>Cancelled:</b> The client cancelled the application sometime during approval. Either the client changed her/his mind about the loan or in some cases due to a higher risk of the client he received worse pricing which he did not want.</li>\n",
    "        <li><b>Refused:</b> The company had rejected the loan (because the client does not meet their requirements etc.)</li>\n",
    "        <li><b>Unused offer:</b>  Loan has been cancelled by the client but on different stages of the process.</li>\n",
    "    </span>\n",
    "</ol>\n",
    "<hr>\n",
    "<h3>   \n",
    "      <font color = purple >\n",
    "            <span style='font-family:Georgia'>\n",
    "            Business Objective:\n",
    "            </span>   \n",
    "        </font>    \n",
    "</h3>\n",
    "<p>\n",
    "    <span style='font-family:Georgia'>\n",
    "        This case study aims to identify patterns which indicate if a client has difficulty paying their installments which may be used for taking actions such as denying the loan, reducing the amount of loan, lending (to risky applicants) at a higher interest rate, etc. This will ensure that the consumers capable of repaying the loan are not rejected. Identification of such applicants using EDA is the aim of this case study.<br>\n",
    "        In other words, the company wants to understand the driving factors (or driver variables) behind loan default, i.e. the variables which are strong indicators of default.  The company can utilise this knowledge for its portfolio and risk assessment.\n",
    "    </span>\n",
    "</p>"
   ]
  },
  {
   "cell_type": "markdown",
   "id": "945c8d25",
   "metadata": {},
   "source": [
    "<a id=\"libraries\"></a>\n",
    "<h2>   \n",
    "      <font color = blue >\n",
    "            <span style='font-family:Georgia'>\n",
    "            2. Getting Jupyter Ready:\n",
    "            </span>   \n",
    "        </font>    \n",
    "</h2>"
   ]
  },
  {
   "cell_type": "code",
   "execution_count": 14,
   "id": "87034c02",
   "metadata": {},
   "outputs": [
    {
     "name": "stdout",
     "output_type": "stream",
     "text": [
      "Requirement already satisfied: missingno in /opt/anaconda3/lib/python3.9/site-packages (0.5.2)\r\n",
      "Requirement already satisfied: scipy in /opt/anaconda3/lib/python3.9/site-packages (from missingno) (1.9.1)\r\n",
      "Requirement already satisfied: seaborn in /opt/anaconda3/lib/python3.9/site-packages (from missingno) (0.11.2)\r\n",
      "Requirement already satisfied: matplotlib in /opt/anaconda3/lib/python3.9/site-packages (from missingno) (3.5.2)\r\n",
      "Requirement already satisfied: numpy in /opt/anaconda3/lib/python3.9/site-packages (from missingno) (1.21.5)\r\n",
      "Requirement already satisfied: kiwisolver>=1.0.1 in /opt/anaconda3/lib/python3.9/site-packages (from matplotlib->missingno) (1.4.2)\r\n",
      "Requirement already satisfied: pillow>=6.2.0 in /opt/anaconda3/lib/python3.9/site-packages (from matplotlib->missingno) (9.2.0)\r\n",
      "Requirement already satisfied: fonttools>=4.22.0 in /opt/anaconda3/lib/python3.9/site-packages (from matplotlib->missingno) (4.25.0)\r\n",
      "Requirement already satisfied: pyparsing>=2.2.1 in /opt/anaconda3/lib/python3.9/site-packages (from matplotlib->missingno) (3.0.9)\r\n",
      "Requirement already satisfied: cycler>=0.10 in /opt/anaconda3/lib/python3.9/site-packages (from matplotlib->missingno) (0.11.0)\r\n",
      "Requirement already satisfied: python-dateutil>=2.7 in /opt/anaconda3/lib/python3.9/site-packages (from matplotlib->missingno) (2.8.2)\r\n",
      "Requirement already satisfied: packaging>=20.0 in /opt/anaconda3/lib/python3.9/site-packages (from matplotlib->missingno) (21.3)\r\n",
      "Requirement already satisfied: pandas>=0.23 in /opt/anaconda3/lib/python3.9/site-packages (from seaborn->missingno) (1.4.4)\r\n",
      "Requirement already satisfied: pytz>=2020.1 in /opt/anaconda3/lib/python3.9/site-packages (from pandas>=0.23->seaborn->missingno) (2022.1)\r\n",
      "Requirement already satisfied: six>=1.5 in /opt/anaconda3/lib/python3.9/site-packages (from python-dateutil>=2.7->matplotlib->missingno) (1.16.0)\r\n"
     ]
    }
   ],
   "source": [
    "!pip install missingno"
   ]
  },
  {
   "cell_type": "markdown",
   "id": "2d86dc5f",
   "metadata": {},
   "source": [
    "<h3 name='libraries'>   \n",
    "      <font color = purple >\n",
    "            <span style='font-family:Georgia'>\n",
    "            2.1 Import Python Libraries:\n",
    "            </span>   \n",
    "        </font>    \n",
    "</h3>"
   ]
  },
  {
   "cell_type": "code",
   "execution_count": 15,
   "id": "3673ab1b",
   "metadata": {},
   "outputs": [],
   "source": [
    "import numpy as np\n",
    "import pandas as pd\n",
    "import matplotlib.pyplot as plt\n",
    "import matplotlib.style as style\n",
    "import seaborn as sns\n",
    "import itertools\n",
    "%matplotlib inline\n",
    "\n",
    "# setting up plot style \n",
    "style.use('seaborn-poster')\n",
    "style.use('fivethirtyeight')"
   ]
  },
  {
   "cell_type": "markdown",
   "id": "b9da98c3",
   "metadata": {},
   "source": [
    "<h3 name='libraries'>   \n",
    "      <font color = purple >\n",
    "            <span style='font-family:Georgia'>\n",
    "            2.2 Supress Warnings:\n",
    "            </span>   \n",
    "        </font>    \n",
    "</h3>"
   ]
  },
  {
   "cell_type": "code",
   "execution_count": 16,
   "id": "bca89a16",
   "metadata": {},
   "outputs": [],
   "source": [
    "import warnings\n",
    "warnings.filterwarnings('ignore')"
   ]
  },
  {
   "cell_type": "markdown",
   "id": "c4ed00c7",
   "metadata": {},
   "source": [
    "<h3 name='libraries'>   \n",
    "      <font color = purple >\n",
    "            <span style='font-family:Georgia'>\n",
    "            2.3 Adjust Jupyer Views:\n",
    "            </span>   \n",
    "        </font>    \n",
    "</h3>"
   ]
  },
  {
   "cell_type": "code",
   "execution_count": 17,
   "id": "05523584",
   "metadata": {},
   "outputs": [],
   "source": [
    "pd.set_option('display.max_rows', 500)\n",
    "pd.set_option('display.max_columns', 500)\n",
    "pd.set_option('display.width', 1000)\n",
    "pd.set_option('display.expand_frame_repr', False)"
   ]
  },
  {
   "cell_type": "markdown",
   "id": "23246dd3",
   "metadata": {},
   "source": [
    "### Helper Functions"
   ]
  },
  {
   "cell_type": "markdown",
   "id": "859df6d4",
   "metadata": {},
   "source": [
    "##### transform_emp_duration"
   ]
  },
  {
   "cell_type": "markdown",
   "id": "d0a19c51",
   "metadata": {},
   "source": [
    "This function transforms the string value of employee's tenure into numeric value. If the value of null, then it imputes 0 for the tenure."
   ]
  },
  {
   "cell_type": "code",
   "execution_count": 18,
   "id": "0eb67ba3",
   "metadata": {},
   "outputs": [],
   "source": [
    "def transform_emp_duration(duration):\n",
    "    if (pd.isnull(duration)):\n",
    "        return 0\n",
    "    duration = duration.strip()\n",
    "    if duration == '< 1 year':\n",
    "        return 0\n",
    "    if duration == '10+ years':\n",
    "        return 10\n",
    "    return int(duration.split()[0])"
   ]
  },
  {
   "cell_type": "markdown",
   "id": "f9c4c000",
   "metadata": {},
   "source": [
    "<a id=\"import\"></a>\n",
    "<h2>   \n",
    "      <font color = blue >\n",
    "            <span style='font-family:Georgia'>\n",
    "            3. Reading & Understanding the data\n",
    "            </span>   \n",
    "        </font>    \n",
    "</h2>"
   ]
  },
  {
   "cell_type": "markdown",
   "id": "d9716ead",
   "metadata": {},
   "source": [
    "<a id=\"input\"></a>\n",
    "<h3 name='libraries'>   \n",
    "      <font color = purple >\n",
    "            <span style='font-family:Georgia'>\n",
    "            3.1 Importing the input files\n",
    "            </span>   \n",
    "        </font>    \n",
    "</h3>"
   ]
  },
  {
   "cell_type": "code",
   "execution_count": 19,
   "id": "387db997",
   "metadata": {},
   "outputs": [],
   "source": [
    "loan_df = pd.read_csv('loan.csv')"
   ]
  },
  {
   "cell_type": "markdown",
   "id": "a33e607c",
   "metadata": {},
   "source": [
    "<a id=\"inspect\"></a>\n",
    "<h3 name='libraries'>   \n",
    "      <font color = purple >\n",
    "            <span style='font-family:Georgia'>\n",
    "            3.2 Inspect Data Frames\n",
    "            </span>   \n",
    "        </font>    \n",
    "</h3>"
   ]
  },
  {
   "cell_type": "code",
   "execution_count": 20,
   "id": "20ae35ec",
   "metadata": {},
   "outputs": [
    {
     "name": "stdout",
     "output_type": "stream",
     "text": [
      "Database dimension     : (39717, 111)\n",
      "Database size          : 4408587\n"
     ]
    }
   ],
   "source": [
    "# Database dimension\n",
    "print(\"Database dimension     :\",loan_df.shape)\n",
    "\n",
    "#Database size\n",
    "print(\"Database size          :\",loan_df.size)"
   ]
  },
  {
   "cell_type": "code",
   "execution_count": 21,
   "id": "44f8b9ce",
   "metadata": {},
   "outputs": [
    {
     "data": {
      "text/html": [
       "<div>\n",
       "<style scoped>\n",
       "    .dataframe tbody tr th:only-of-type {\n",
       "        vertical-align: middle;\n",
       "    }\n",
       "\n",
       "    .dataframe tbody tr th {\n",
       "        vertical-align: top;\n",
       "    }\n",
       "\n",
       "    .dataframe thead th {\n",
       "        text-align: right;\n",
       "    }\n",
       "</style>\n",
       "<table border=\"1\" class=\"dataframe\">\n",
       "  <thead>\n",
       "    <tr style=\"text-align: right;\">\n",
       "      <th></th>\n",
       "      <th>id</th>\n",
       "      <th>member_id</th>\n",
       "      <th>loan_amnt</th>\n",
       "      <th>funded_amnt</th>\n",
       "      <th>funded_amnt_inv</th>\n",
       "      <th>installment</th>\n",
       "      <th>annual_inc</th>\n",
       "      <th>dti</th>\n",
       "      <th>delinq_2yrs</th>\n",
       "      <th>inq_last_6mths</th>\n",
       "      <th>mths_since_last_delinq</th>\n",
       "      <th>mths_since_last_record</th>\n",
       "      <th>open_acc</th>\n",
       "      <th>pub_rec</th>\n",
       "      <th>revol_bal</th>\n",
       "      <th>total_acc</th>\n",
       "      <th>out_prncp</th>\n",
       "      <th>out_prncp_inv</th>\n",
       "      <th>total_pymnt</th>\n",
       "      <th>total_pymnt_inv</th>\n",
       "      <th>total_rec_prncp</th>\n",
       "      <th>total_rec_int</th>\n",
       "      <th>total_rec_late_fee</th>\n",
       "      <th>recoveries</th>\n",
       "      <th>collection_recovery_fee</th>\n",
       "      <th>last_pymnt_amnt</th>\n",
       "      <th>collections_12_mths_ex_med</th>\n",
       "      <th>mths_since_last_major_derog</th>\n",
       "      <th>policy_code</th>\n",
       "      <th>annual_inc_joint</th>\n",
       "      <th>dti_joint</th>\n",
       "      <th>verification_status_joint</th>\n",
       "      <th>acc_now_delinq</th>\n",
       "      <th>tot_coll_amt</th>\n",
       "      <th>tot_cur_bal</th>\n",
       "      <th>open_acc_6m</th>\n",
       "      <th>open_il_6m</th>\n",
       "      <th>open_il_12m</th>\n",
       "      <th>open_il_24m</th>\n",
       "      <th>mths_since_rcnt_il</th>\n",
       "      <th>total_bal_il</th>\n",
       "      <th>il_util</th>\n",
       "      <th>open_rv_12m</th>\n",
       "      <th>open_rv_24m</th>\n",
       "      <th>max_bal_bc</th>\n",
       "      <th>all_util</th>\n",
       "      <th>total_rev_hi_lim</th>\n",
       "      <th>inq_fi</th>\n",
       "      <th>total_cu_tl</th>\n",
       "      <th>inq_last_12m</th>\n",
       "      <th>acc_open_past_24mths</th>\n",
       "      <th>avg_cur_bal</th>\n",
       "      <th>bc_open_to_buy</th>\n",
       "      <th>bc_util</th>\n",
       "      <th>chargeoff_within_12_mths</th>\n",
       "      <th>delinq_amnt</th>\n",
       "      <th>mo_sin_old_il_acct</th>\n",
       "      <th>mo_sin_old_rev_tl_op</th>\n",
       "      <th>mo_sin_rcnt_rev_tl_op</th>\n",
       "      <th>mo_sin_rcnt_tl</th>\n",
       "      <th>mort_acc</th>\n",
       "      <th>mths_since_recent_bc</th>\n",
       "      <th>mths_since_recent_bc_dlq</th>\n",
       "      <th>mths_since_recent_inq</th>\n",
       "      <th>mths_since_recent_revol_delinq</th>\n",
       "      <th>num_accts_ever_120_pd</th>\n",
       "      <th>num_actv_bc_tl</th>\n",
       "      <th>num_actv_rev_tl</th>\n",
       "      <th>num_bc_sats</th>\n",
       "      <th>num_bc_tl</th>\n",
       "      <th>num_il_tl</th>\n",
       "      <th>num_op_rev_tl</th>\n",
       "      <th>num_rev_accts</th>\n",
       "      <th>num_rev_tl_bal_gt_0</th>\n",
       "      <th>num_sats</th>\n",
       "      <th>num_tl_120dpd_2m</th>\n",
       "      <th>num_tl_30dpd</th>\n",
       "      <th>num_tl_90g_dpd_24m</th>\n",
       "      <th>num_tl_op_past_12m</th>\n",
       "      <th>pct_tl_nvr_dlq</th>\n",
       "      <th>percent_bc_gt_75</th>\n",
       "      <th>pub_rec_bankruptcies</th>\n",
       "      <th>tax_liens</th>\n",
       "      <th>tot_hi_cred_lim</th>\n",
       "      <th>total_bal_ex_mort</th>\n",
       "      <th>total_bc_limit</th>\n",
       "      <th>total_il_high_credit_limit</th>\n",
       "    </tr>\n",
       "  </thead>\n",
       "  <tbody>\n",
       "    <tr>\n",
       "      <th>count</th>\n",
       "      <td>3.971700e+04</td>\n",
       "      <td>3.971700e+04</td>\n",
       "      <td>39717.000000</td>\n",
       "      <td>39717.000000</td>\n",
       "      <td>39717.000000</td>\n",
       "      <td>39717.000000</td>\n",
       "      <td>3.971700e+04</td>\n",
       "      <td>39717.000000</td>\n",
       "      <td>39717.000000</td>\n",
       "      <td>39717.000000</td>\n",
       "      <td>14035.000000</td>\n",
       "      <td>2786.000000</td>\n",
       "      <td>39717.000000</td>\n",
       "      <td>39717.000000</td>\n",
       "      <td>39717.000000</td>\n",
       "      <td>39717.000000</td>\n",
       "      <td>39717.000000</td>\n",
       "      <td>39717.000000</td>\n",
       "      <td>39717.000000</td>\n",
       "      <td>39717.000000</td>\n",
       "      <td>39717.000000</td>\n",
       "      <td>39717.000000</td>\n",
       "      <td>39717.000000</td>\n",
       "      <td>39717.000000</td>\n",
       "      <td>39717.000000</td>\n",
       "      <td>39717.000000</td>\n",
       "      <td>39661.0</td>\n",
       "      <td>0.0</td>\n",
       "      <td>39717.0</td>\n",
       "      <td>0.0</td>\n",
       "      <td>0.0</td>\n",
       "      <td>0.0</td>\n",
       "      <td>39717.0</td>\n",
       "      <td>0.0</td>\n",
       "      <td>0.0</td>\n",
       "      <td>0.0</td>\n",
       "      <td>0.0</td>\n",
       "      <td>0.0</td>\n",
       "      <td>0.0</td>\n",
       "      <td>0.0</td>\n",
       "      <td>0.0</td>\n",
       "      <td>0.0</td>\n",
       "      <td>0.0</td>\n",
       "      <td>0.0</td>\n",
       "      <td>0.0</td>\n",
       "      <td>0.0</td>\n",
       "      <td>0.0</td>\n",
       "      <td>0.0</td>\n",
       "      <td>0.0</td>\n",
       "      <td>0.0</td>\n",
       "      <td>0.0</td>\n",
       "      <td>0.0</td>\n",
       "      <td>0.0</td>\n",
       "      <td>0.0</td>\n",
       "      <td>39661.0</td>\n",
       "      <td>39717.0</td>\n",
       "      <td>0.0</td>\n",
       "      <td>0.0</td>\n",
       "      <td>0.0</td>\n",
       "      <td>0.0</td>\n",
       "      <td>0.0</td>\n",
       "      <td>0.0</td>\n",
       "      <td>0.0</td>\n",
       "      <td>0.0</td>\n",
       "      <td>0.0</td>\n",
       "      <td>0.0</td>\n",
       "      <td>0.0</td>\n",
       "      <td>0.0</td>\n",
       "      <td>0.0</td>\n",
       "      <td>0.0</td>\n",
       "      <td>0.0</td>\n",
       "      <td>0.0</td>\n",
       "      <td>0.0</td>\n",
       "      <td>0.0</td>\n",
       "      <td>0.0</td>\n",
       "      <td>0.0</td>\n",
       "      <td>0.0</td>\n",
       "      <td>0.0</td>\n",
       "      <td>0.0</td>\n",
       "      <td>0.0</td>\n",
       "      <td>0.0</td>\n",
       "      <td>39020.000000</td>\n",
       "      <td>39678.0</td>\n",
       "      <td>0.0</td>\n",
       "      <td>0.0</td>\n",
       "      <td>0.0</td>\n",
       "      <td>0.0</td>\n",
       "    </tr>\n",
       "    <tr>\n",
       "      <th>mean</th>\n",
       "      <td>6.831319e+05</td>\n",
       "      <td>8.504636e+05</td>\n",
       "      <td>11219.443815</td>\n",
       "      <td>10947.713196</td>\n",
       "      <td>10397.448868</td>\n",
       "      <td>324.561922</td>\n",
       "      <td>6.896893e+04</td>\n",
       "      <td>13.315130</td>\n",
       "      <td>0.146512</td>\n",
       "      <td>0.869200</td>\n",
       "      <td>35.900962</td>\n",
       "      <td>69.698134</td>\n",
       "      <td>9.294408</td>\n",
       "      <td>0.055065</td>\n",
       "      <td>13382.528086</td>\n",
       "      <td>22.088828</td>\n",
       "      <td>51.227887</td>\n",
       "      <td>50.989768</td>\n",
       "      <td>12153.596544</td>\n",
       "      <td>11567.149118</td>\n",
       "      <td>9793.348813</td>\n",
       "      <td>2263.663172</td>\n",
       "      <td>1.363015</td>\n",
       "      <td>95.221624</td>\n",
       "      <td>12.406112</td>\n",
       "      <td>2678.826162</td>\n",
       "      <td>0.0</td>\n",
       "      <td>NaN</td>\n",
       "      <td>1.0</td>\n",
       "      <td>NaN</td>\n",
       "      <td>NaN</td>\n",
       "      <td>NaN</td>\n",
       "      <td>0.0</td>\n",
       "      <td>NaN</td>\n",
       "      <td>NaN</td>\n",
       "      <td>NaN</td>\n",
       "      <td>NaN</td>\n",
       "      <td>NaN</td>\n",
       "      <td>NaN</td>\n",
       "      <td>NaN</td>\n",
       "      <td>NaN</td>\n",
       "      <td>NaN</td>\n",
       "      <td>NaN</td>\n",
       "      <td>NaN</td>\n",
       "      <td>NaN</td>\n",
       "      <td>NaN</td>\n",
       "      <td>NaN</td>\n",
       "      <td>NaN</td>\n",
       "      <td>NaN</td>\n",
       "      <td>NaN</td>\n",
       "      <td>NaN</td>\n",
       "      <td>NaN</td>\n",
       "      <td>NaN</td>\n",
       "      <td>NaN</td>\n",
       "      <td>0.0</td>\n",
       "      <td>0.0</td>\n",
       "      <td>NaN</td>\n",
       "      <td>NaN</td>\n",
       "      <td>NaN</td>\n",
       "      <td>NaN</td>\n",
       "      <td>NaN</td>\n",
       "      <td>NaN</td>\n",
       "      <td>NaN</td>\n",
       "      <td>NaN</td>\n",
       "      <td>NaN</td>\n",
       "      <td>NaN</td>\n",
       "      <td>NaN</td>\n",
       "      <td>NaN</td>\n",
       "      <td>NaN</td>\n",
       "      <td>NaN</td>\n",
       "      <td>NaN</td>\n",
       "      <td>NaN</td>\n",
       "      <td>NaN</td>\n",
       "      <td>NaN</td>\n",
       "      <td>NaN</td>\n",
       "      <td>NaN</td>\n",
       "      <td>NaN</td>\n",
       "      <td>NaN</td>\n",
       "      <td>NaN</td>\n",
       "      <td>NaN</td>\n",
       "      <td>NaN</td>\n",
       "      <td>0.043260</td>\n",
       "      <td>0.0</td>\n",
       "      <td>NaN</td>\n",
       "      <td>NaN</td>\n",
       "      <td>NaN</td>\n",
       "      <td>NaN</td>\n",
       "    </tr>\n",
       "    <tr>\n",
       "      <th>std</th>\n",
       "      <td>2.106941e+05</td>\n",
       "      <td>2.656783e+05</td>\n",
       "      <td>7456.670694</td>\n",
       "      <td>7187.238670</td>\n",
       "      <td>7128.450439</td>\n",
       "      <td>208.874874</td>\n",
       "      <td>6.379377e+04</td>\n",
       "      <td>6.678594</td>\n",
       "      <td>0.491812</td>\n",
       "      <td>1.070219</td>\n",
       "      <td>22.020060</td>\n",
       "      <td>43.822529</td>\n",
       "      <td>4.400282</td>\n",
       "      <td>0.237200</td>\n",
       "      <td>15885.016641</td>\n",
       "      <td>11.401709</td>\n",
       "      <td>375.172839</td>\n",
       "      <td>373.824457</td>\n",
       "      <td>9042.040766</td>\n",
       "      <td>8942.672613</td>\n",
       "      <td>7065.522127</td>\n",
       "      <td>2608.111964</td>\n",
       "      <td>7.289979</td>\n",
       "      <td>688.744771</td>\n",
       "      <td>148.671593</td>\n",
       "      <td>4447.136012</td>\n",
       "      <td>0.0</td>\n",
       "      <td>NaN</td>\n",
       "      <td>0.0</td>\n",
       "      <td>NaN</td>\n",
       "      <td>NaN</td>\n",
       "      <td>NaN</td>\n",
       "      <td>0.0</td>\n",
       "      <td>NaN</td>\n",
       "      <td>NaN</td>\n",
       "      <td>NaN</td>\n",
       "      <td>NaN</td>\n",
       "      <td>NaN</td>\n",
       "      <td>NaN</td>\n",
       "      <td>NaN</td>\n",
       "      <td>NaN</td>\n",
       "      <td>NaN</td>\n",
       "      <td>NaN</td>\n",
       "      <td>NaN</td>\n",
       "      <td>NaN</td>\n",
       "      <td>NaN</td>\n",
       "      <td>NaN</td>\n",
       "      <td>NaN</td>\n",
       "      <td>NaN</td>\n",
       "      <td>NaN</td>\n",
       "      <td>NaN</td>\n",
       "      <td>NaN</td>\n",
       "      <td>NaN</td>\n",
       "      <td>NaN</td>\n",
       "      <td>0.0</td>\n",
       "      <td>0.0</td>\n",
       "      <td>NaN</td>\n",
       "      <td>NaN</td>\n",
       "      <td>NaN</td>\n",
       "      <td>NaN</td>\n",
       "      <td>NaN</td>\n",
       "      <td>NaN</td>\n",
       "      <td>NaN</td>\n",
       "      <td>NaN</td>\n",
       "      <td>NaN</td>\n",
       "      <td>NaN</td>\n",
       "      <td>NaN</td>\n",
       "      <td>NaN</td>\n",
       "      <td>NaN</td>\n",
       "      <td>NaN</td>\n",
       "      <td>NaN</td>\n",
       "      <td>NaN</td>\n",
       "      <td>NaN</td>\n",
       "      <td>NaN</td>\n",
       "      <td>NaN</td>\n",
       "      <td>NaN</td>\n",
       "      <td>NaN</td>\n",
       "      <td>NaN</td>\n",
       "      <td>NaN</td>\n",
       "      <td>NaN</td>\n",
       "      <td>NaN</td>\n",
       "      <td>0.204324</td>\n",
       "      <td>0.0</td>\n",
       "      <td>NaN</td>\n",
       "      <td>NaN</td>\n",
       "      <td>NaN</td>\n",
       "      <td>NaN</td>\n",
       "    </tr>\n",
       "    <tr>\n",
       "      <th>min</th>\n",
       "      <td>5.473400e+04</td>\n",
       "      <td>7.069900e+04</td>\n",
       "      <td>500.000000</td>\n",
       "      <td>500.000000</td>\n",
       "      <td>0.000000</td>\n",
       "      <td>15.690000</td>\n",
       "      <td>4.000000e+03</td>\n",
       "      <td>0.000000</td>\n",
       "      <td>0.000000</td>\n",
       "      <td>0.000000</td>\n",
       "      <td>0.000000</td>\n",
       "      <td>0.000000</td>\n",
       "      <td>2.000000</td>\n",
       "      <td>0.000000</td>\n",
       "      <td>0.000000</td>\n",
       "      <td>2.000000</td>\n",
       "      <td>0.000000</td>\n",
       "      <td>0.000000</td>\n",
       "      <td>0.000000</td>\n",
       "      <td>0.000000</td>\n",
       "      <td>0.000000</td>\n",
       "      <td>0.000000</td>\n",
       "      <td>0.000000</td>\n",
       "      <td>0.000000</td>\n",
       "      <td>0.000000</td>\n",
       "      <td>0.000000</td>\n",
       "      <td>0.0</td>\n",
       "      <td>NaN</td>\n",
       "      <td>1.0</td>\n",
       "      <td>NaN</td>\n",
       "      <td>NaN</td>\n",
       "      <td>NaN</td>\n",
       "      <td>0.0</td>\n",
       "      <td>NaN</td>\n",
       "      <td>NaN</td>\n",
       "      <td>NaN</td>\n",
       "      <td>NaN</td>\n",
       "      <td>NaN</td>\n",
       "      <td>NaN</td>\n",
       "      <td>NaN</td>\n",
       "      <td>NaN</td>\n",
       "      <td>NaN</td>\n",
       "      <td>NaN</td>\n",
       "      <td>NaN</td>\n",
       "      <td>NaN</td>\n",
       "      <td>NaN</td>\n",
       "      <td>NaN</td>\n",
       "      <td>NaN</td>\n",
       "      <td>NaN</td>\n",
       "      <td>NaN</td>\n",
       "      <td>NaN</td>\n",
       "      <td>NaN</td>\n",
       "      <td>NaN</td>\n",
       "      <td>NaN</td>\n",
       "      <td>0.0</td>\n",
       "      <td>0.0</td>\n",
       "      <td>NaN</td>\n",
       "      <td>NaN</td>\n",
       "      <td>NaN</td>\n",
       "      <td>NaN</td>\n",
       "      <td>NaN</td>\n",
       "      <td>NaN</td>\n",
       "      <td>NaN</td>\n",
       "      <td>NaN</td>\n",
       "      <td>NaN</td>\n",
       "      <td>NaN</td>\n",
       "      <td>NaN</td>\n",
       "      <td>NaN</td>\n",
       "      <td>NaN</td>\n",
       "      <td>NaN</td>\n",
       "      <td>NaN</td>\n",
       "      <td>NaN</td>\n",
       "      <td>NaN</td>\n",
       "      <td>NaN</td>\n",
       "      <td>NaN</td>\n",
       "      <td>NaN</td>\n",
       "      <td>NaN</td>\n",
       "      <td>NaN</td>\n",
       "      <td>NaN</td>\n",
       "      <td>NaN</td>\n",
       "      <td>NaN</td>\n",
       "      <td>0.000000</td>\n",
       "      <td>0.0</td>\n",
       "      <td>NaN</td>\n",
       "      <td>NaN</td>\n",
       "      <td>NaN</td>\n",
       "      <td>NaN</td>\n",
       "    </tr>\n",
       "    <tr>\n",
       "      <th>25%</th>\n",
       "      <td>5.162210e+05</td>\n",
       "      <td>6.667800e+05</td>\n",
       "      <td>5500.000000</td>\n",
       "      <td>5400.000000</td>\n",
       "      <td>5000.000000</td>\n",
       "      <td>167.020000</td>\n",
       "      <td>4.040400e+04</td>\n",
       "      <td>8.170000</td>\n",
       "      <td>0.000000</td>\n",
       "      <td>0.000000</td>\n",
       "      <td>18.000000</td>\n",
       "      <td>22.000000</td>\n",
       "      <td>6.000000</td>\n",
       "      <td>0.000000</td>\n",
       "      <td>3703.000000</td>\n",
       "      <td>13.000000</td>\n",
       "      <td>0.000000</td>\n",
       "      <td>0.000000</td>\n",
       "      <td>5576.930000</td>\n",
       "      <td>5112.310000</td>\n",
       "      <td>4600.000000</td>\n",
       "      <td>662.180000</td>\n",
       "      <td>0.000000</td>\n",
       "      <td>0.000000</td>\n",
       "      <td>0.000000</td>\n",
       "      <td>218.680000</td>\n",
       "      <td>0.0</td>\n",
       "      <td>NaN</td>\n",
       "      <td>1.0</td>\n",
       "      <td>NaN</td>\n",
       "      <td>NaN</td>\n",
       "      <td>NaN</td>\n",
       "      <td>0.0</td>\n",
       "      <td>NaN</td>\n",
       "      <td>NaN</td>\n",
       "      <td>NaN</td>\n",
       "      <td>NaN</td>\n",
       "      <td>NaN</td>\n",
       "      <td>NaN</td>\n",
       "      <td>NaN</td>\n",
       "      <td>NaN</td>\n",
       "      <td>NaN</td>\n",
       "      <td>NaN</td>\n",
       "      <td>NaN</td>\n",
       "      <td>NaN</td>\n",
       "      <td>NaN</td>\n",
       "      <td>NaN</td>\n",
       "      <td>NaN</td>\n",
       "      <td>NaN</td>\n",
       "      <td>NaN</td>\n",
       "      <td>NaN</td>\n",
       "      <td>NaN</td>\n",
       "      <td>NaN</td>\n",
       "      <td>NaN</td>\n",
       "      <td>0.0</td>\n",
       "      <td>0.0</td>\n",
       "      <td>NaN</td>\n",
       "      <td>NaN</td>\n",
       "      <td>NaN</td>\n",
       "      <td>NaN</td>\n",
       "      <td>NaN</td>\n",
       "      <td>NaN</td>\n",
       "      <td>NaN</td>\n",
       "      <td>NaN</td>\n",
       "      <td>NaN</td>\n",
       "      <td>NaN</td>\n",
       "      <td>NaN</td>\n",
       "      <td>NaN</td>\n",
       "      <td>NaN</td>\n",
       "      <td>NaN</td>\n",
       "      <td>NaN</td>\n",
       "      <td>NaN</td>\n",
       "      <td>NaN</td>\n",
       "      <td>NaN</td>\n",
       "      <td>NaN</td>\n",
       "      <td>NaN</td>\n",
       "      <td>NaN</td>\n",
       "      <td>NaN</td>\n",
       "      <td>NaN</td>\n",
       "      <td>NaN</td>\n",
       "      <td>NaN</td>\n",
       "      <td>0.000000</td>\n",
       "      <td>0.0</td>\n",
       "      <td>NaN</td>\n",
       "      <td>NaN</td>\n",
       "      <td>NaN</td>\n",
       "      <td>NaN</td>\n",
       "    </tr>\n",
       "    <tr>\n",
       "      <th>50%</th>\n",
       "      <td>6.656650e+05</td>\n",
       "      <td>8.508120e+05</td>\n",
       "      <td>10000.000000</td>\n",
       "      <td>9600.000000</td>\n",
       "      <td>8975.000000</td>\n",
       "      <td>280.220000</td>\n",
       "      <td>5.900000e+04</td>\n",
       "      <td>13.400000</td>\n",
       "      <td>0.000000</td>\n",
       "      <td>1.000000</td>\n",
       "      <td>34.000000</td>\n",
       "      <td>90.000000</td>\n",
       "      <td>9.000000</td>\n",
       "      <td>0.000000</td>\n",
       "      <td>8850.000000</td>\n",
       "      <td>20.000000</td>\n",
       "      <td>0.000000</td>\n",
       "      <td>0.000000</td>\n",
       "      <td>9899.640319</td>\n",
       "      <td>9287.150000</td>\n",
       "      <td>8000.000000</td>\n",
       "      <td>1348.910000</td>\n",
       "      <td>0.000000</td>\n",
       "      <td>0.000000</td>\n",
       "      <td>0.000000</td>\n",
       "      <td>546.140000</td>\n",
       "      <td>0.0</td>\n",
       "      <td>NaN</td>\n",
       "      <td>1.0</td>\n",
       "      <td>NaN</td>\n",
       "      <td>NaN</td>\n",
       "      <td>NaN</td>\n",
       "      <td>0.0</td>\n",
       "      <td>NaN</td>\n",
       "      <td>NaN</td>\n",
       "      <td>NaN</td>\n",
       "      <td>NaN</td>\n",
       "      <td>NaN</td>\n",
       "      <td>NaN</td>\n",
       "      <td>NaN</td>\n",
       "      <td>NaN</td>\n",
       "      <td>NaN</td>\n",
       "      <td>NaN</td>\n",
       "      <td>NaN</td>\n",
       "      <td>NaN</td>\n",
       "      <td>NaN</td>\n",
       "      <td>NaN</td>\n",
       "      <td>NaN</td>\n",
       "      <td>NaN</td>\n",
       "      <td>NaN</td>\n",
       "      <td>NaN</td>\n",
       "      <td>NaN</td>\n",
       "      <td>NaN</td>\n",
       "      <td>NaN</td>\n",
       "      <td>0.0</td>\n",
       "      <td>0.0</td>\n",
       "      <td>NaN</td>\n",
       "      <td>NaN</td>\n",
       "      <td>NaN</td>\n",
       "      <td>NaN</td>\n",
       "      <td>NaN</td>\n",
       "      <td>NaN</td>\n",
       "      <td>NaN</td>\n",
       "      <td>NaN</td>\n",
       "      <td>NaN</td>\n",
       "      <td>NaN</td>\n",
       "      <td>NaN</td>\n",
       "      <td>NaN</td>\n",
       "      <td>NaN</td>\n",
       "      <td>NaN</td>\n",
       "      <td>NaN</td>\n",
       "      <td>NaN</td>\n",
       "      <td>NaN</td>\n",
       "      <td>NaN</td>\n",
       "      <td>NaN</td>\n",
       "      <td>NaN</td>\n",
       "      <td>NaN</td>\n",
       "      <td>NaN</td>\n",
       "      <td>NaN</td>\n",
       "      <td>NaN</td>\n",
       "      <td>NaN</td>\n",
       "      <td>0.000000</td>\n",
       "      <td>0.0</td>\n",
       "      <td>NaN</td>\n",
       "      <td>NaN</td>\n",
       "      <td>NaN</td>\n",
       "      <td>NaN</td>\n",
       "    </tr>\n",
       "    <tr>\n",
       "      <th>75%</th>\n",
       "      <td>8.377550e+05</td>\n",
       "      <td>1.047339e+06</td>\n",
       "      <td>15000.000000</td>\n",
       "      <td>15000.000000</td>\n",
       "      <td>14400.000000</td>\n",
       "      <td>430.780000</td>\n",
       "      <td>8.230000e+04</td>\n",
       "      <td>18.600000</td>\n",
       "      <td>0.000000</td>\n",
       "      <td>1.000000</td>\n",
       "      <td>52.000000</td>\n",
       "      <td>104.000000</td>\n",
       "      <td>12.000000</td>\n",
       "      <td>0.000000</td>\n",
       "      <td>17058.000000</td>\n",
       "      <td>29.000000</td>\n",
       "      <td>0.000000</td>\n",
       "      <td>0.000000</td>\n",
       "      <td>16534.433040</td>\n",
       "      <td>15798.810000</td>\n",
       "      <td>13653.260000</td>\n",
       "      <td>2833.400000</td>\n",
       "      <td>0.000000</td>\n",
       "      <td>0.000000</td>\n",
       "      <td>0.000000</td>\n",
       "      <td>3293.160000</td>\n",
       "      <td>0.0</td>\n",
       "      <td>NaN</td>\n",
       "      <td>1.0</td>\n",
       "      <td>NaN</td>\n",
       "      <td>NaN</td>\n",
       "      <td>NaN</td>\n",
       "      <td>0.0</td>\n",
       "      <td>NaN</td>\n",
       "      <td>NaN</td>\n",
       "      <td>NaN</td>\n",
       "      <td>NaN</td>\n",
       "      <td>NaN</td>\n",
       "      <td>NaN</td>\n",
       "      <td>NaN</td>\n",
       "      <td>NaN</td>\n",
       "      <td>NaN</td>\n",
       "      <td>NaN</td>\n",
       "      <td>NaN</td>\n",
       "      <td>NaN</td>\n",
       "      <td>NaN</td>\n",
       "      <td>NaN</td>\n",
       "      <td>NaN</td>\n",
       "      <td>NaN</td>\n",
       "      <td>NaN</td>\n",
       "      <td>NaN</td>\n",
       "      <td>NaN</td>\n",
       "      <td>NaN</td>\n",
       "      <td>NaN</td>\n",
       "      <td>0.0</td>\n",
       "      <td>0.0</td>\n",
       "      <td>NaN</td>\n",
       "      <td>NaN</td>\n",
       "      <td>NaN</td>\n",
       "      <td>NaN</td>\n",
       "      <td>NaN</td>\n",
       "      <td>NaN</td>\n",
       "      <td>NaN</td>\n",
       "      <td>NaN</td>\n",
       "      <td>NaN</td>\n",
       "      <td>NaN</td>\n",
       "      <td>NaN</td>\n",
       "      <td>NaN</td>\n",
       "      <td>NaN</td>\n",
       "      <td>NaN</td>\n",
       "      <td>NaN</td>\n",
       "      <td>NaN</td>\n",
       "      <td>NaN</td>\n",
       "      <td>NaN</td>\n",
       "      <td>NaN</td>\n",
       "      <td>NaN</td>\n",
       "      <td>NaN</td>\n",
       "      <td>NaN</td>\n",
       "      <td>NaN</td>\n",
       "      <td>NaN</td>\n",
       "      <td>NaN</td>\n",
       "      <td>0.000000</td>\n",
       "      <td>0.0</td>\n",
       "      <td>NaN</td>\n",
       "      <td>NaN</td>\n",
       "      <td>NaN</td>\n",
       "      <td>NaN</td>\n",
       "    </tr>\n",
       "    <tr>\n",
       "      <th>max</th>\n",
       "      <td>1.077501e+06</td>\n",
       "      <td>1.314167e+06</td>\n",
       "      <td>35000.000000</td>\n",
       "      <td>35000.000000</td>\n",
       "      <td>35000.000000</td>\n",
       "      <td>1305.190000</td>\n",
       "      <td>6.000000e+06</td>\n",
       "      <td>29.990000</td>\n",
       "      <td>11.000000</td>\n",
       "      <td>8.000000</td>\n",
       "      <td>120.000000</td>\n",
       "      <td>129.000000</td>\n",
       "      <td>44.000000</td>\n",
       "      <td>4.000000</td>\n",
       "      <td>149588.000000</td>\n",
       "      <td>90.000000</td>\n",
       "      <td>6311.470000</td>\n",
       "      <td>6307.370000</td>\n",
       "      <td>58563.679930</td>\n",
       "      <td>58563.680000</td>\n",
       "      <td>35000.020000</td>\n",
       "      <td>23563.680000</td>\n",
       "      <td>180.200000</td>\n",
       "      <td>29623.350000</td>\n",
       "      <td>7002.190000</td>\n",
       "      <td>36115.200000</td>\n",
       "      <td>0.0</td>\n",
       "      <td>NaN</td>\n",
       "      <td>1.0</td>\n",
       "      <td>NaN</td>\n",
       "      <td>NaN</td>\n",
       "      <td>NaN</td>\n",
       "      <td>0.0</td>\n",
       "      <td>NaN</td>\n",
       "      <td>NaN</td>\n",
       "      <td>NaN</td>\n",
       "      <td>NaN</td>\n",
       "      <td>NaN</td>\n",
       "      <td>NaN</td>\n",
       "      <td>NaN</td>\n",
       "      <td>NaN</td>\n",
       "      <td>NaN</td>\n",
       "      <td>NaN</td>\n",
       "      <td>NaN</td>\n",
       "      <td>NaN</td>\n",
       "      <td>NaN</td>\n",
       "      <td>NaN</td>\n",
       "      <td>NaN</td>\n",
       "      <td>NaN</td>\n",
       "      <td>NaN</td>\n",
       "      <td>NaN</td>\n",
       "      <td>NaN</td>\n",
       "      <td>NaN</td>\n",
       "      <td>NaN</td>\n",
       "      <td>0.0</td>\n",
       "      <td>0.0</td>\n",
       "      <td>NaN</td>\n",
       "      <td>NaN</td>\n",
       "      <td>NaN</td>\n",
       "      <td>NaN</td>\n",
       "      <td>NaN</td>\n",
       "      <td>NaN</td>\n",
       "      <td>NaN</td>\n",
       "      <td>NaN</td>\n",
       "      <td>NaN</td>\n",
       "      <td>NaN</td>\n",
       "      <td>NaN</td>\n",
       "      <td>NaN</td>\n",
       "      <td>NaN</td>\n",
       "      <td>NaN</td>\n",
       "      <td>NaN</td>\n",
       "      <td>NaN</td>\n",
       "      <td>NaN</td>\n",
       "      <td>NaN</td>\n",
       "      <td>NaN</td>\n",
       "      <td>NaN</td>\n",
       "      <td>NaN</td>\n",
       "      <td>NaN</td>\n",
       "      <td>NaN</td>\n",
       "      <td>NaN</td>\n",
       "      <td>NaN</td>\n",
       "      <td>2.000000</td>\n",
       "      <td>0.0</td>\n",
       "      <td>NaN</td>\n",
       "      <td>NaN</td>\n",
       "      <td>NaN</td>\n",
       "      <td>NaN</td>\n",
       "    </tr>\n",
       "  </tbody>\n",
       "</table>\n",
       "</div>"
      ],
      "text/plain": [
       "                 id     member_id     loan_amnt   funded_amnt  funded_amnt_inv   installment    annual_inc           dti   delinq_2yrs  inq_last_6mths  mths_since_last_delinq  mths_since_last_record      open_acc       pub_rec      revol_bal     total_acc     out_prncp  out_prncp_inv   total_pymnt  total_pymnt_inv  total_rec_prncp  total_rec_int  total_rec_late_fee    recoveries  collection_recovery_fee  last_pymnt_amnt  collections_12_mths_ex_med  mths_since_last_major_derog  policy_code  annual_inc_joint  dti_joint  verification_status_joint  acc_now_delinq  tot_coll_amt  tot_cur_bal  open_acc_6m  open_il_6m  open_il_12m  open_il_24m  mths_since_rcnt_il  total_bal_il  il_util  open_rv_12m  open_rv_24m  max_bal_bc  all_util  total_rev_hi_lim  inq_fi  total_cu_tl  inq_last_12m  acc_open_past_24mths  avg_cur_bal  bc_open_to_buy  bc_util  chargeoff_within_12_mths  delinq_amnt  mo_sin_old_il_acct  mo_sin_old_rev_tl_op  mo_sin_rcnt_rev_tl_op  mo_sin_rcnt_tl  mort_acc  mths_since_recent_bc  mths_since_recent_bc_dlq  mths_since_recent_inq  mths_since_recent_revol_delinq  num_accts_ever_120_pd  num_actv_bc_tl  num_actv_rev_tl  num_bc_sats  num_bc_tl  num_il_tl  num_op_rev_tl  num_rev_accts  num_rev_tl_bal_gt_0  num_sats  num_tl_120dpd_2m  num_tl_30dpd  num_tl_90g_dpd_24m  num_tl_op_past_12m  pct_tl_nvr_dlq  percent_bc_gt_75  pub_rec_bankruptcies  tax_liens  tot_hi_cred_lim  total_bal_ex_mort  total_bc_limit  total_il_high_credit_limit\n",
       "count  3.971700e+04  3.971700e+04  39717.000000  39717.000000     39717.000000  39717.000000  3.971700e+04  39717.000000  39717.000000    39717.000000            14035.000000             2786.000000  39717.000000  39717.000000   39717.000000  39717.000000  39717.000000   39717.000000  39717.000000     39717.000000     39717.000000   39717.000000        39717.000000  39717.000000             39717.000000     39717.000000                     39661.0                          0.0      39717.0               0.0        0.0                        0.0         39717.0           0.0          0.0          0.0         0.0          0.0          0.0                 0.0           0.0      0.0          0.0          0.0         0.0       0.0               0.0     0.0          0.0           0.0                   0.0          0.0             0.0      0.0                   39661.0      39717.0                 0.0                   0.0                    0.0             0.0       0.0                   0.0                       0.0                    0.0                             0.0                    0.0             0.0              0.0          0.0        0.0        0.0            0.0            0.0                  0.0       0.0               0.0           0.0                 0.0                 0.0             0.0               0.0          39020.000000    39678.0              0.0                0.0             0.0                         0.0\n",
       "mean   6.831319e+05  8.504636e+05  11219.443815  10947.713196     10397.448868    324.561922  6.896893e+04     13.315130      0.146512        0.869200               35.900962               69.698134      9.294408      0.055065   13382.528086     22.088828     51.227887      50.989768  12153.596544     11567.149118      9793.348813    2263.663172            1.363015     95.221624                12.406112      2678.826162                         0.0                          NaN          1.0               NaN        NaN                        NaN             0.0           NaN          NaN          NaN         NaN          NaN          NaN                 NaN           NaN      NaN          NaN          NaN         NaN       NaN               NaN     NaN          NaN           NaN                   NaN          NaN             NaN      NaN                       0.0          0.0                 NaN                   NaN                    NaN             NaN       NaN                   NaN                       NaN                    NaN                             NaN                    NaN             NaN              NaN          NaN        NaN        NaN            NaN            NaN                  NaN       NaN               NaN           NaN                 NaN                 NaN             NaN               NaN              0.043260        0.0              NaN                NaN             NaN                         NaN\n",
       "std    2.106941e+05  2.656783e+05   7456.670694   7187.238670      7128.450439    208.874874  6.379377e+04      6.678594      0.491812        1.070219               22.020060               43.822529      4.400282      0.237200   15885.016641     11.401709    375.172839     373.824457   9042.040766      8942.672613      7065.522127    2608.111964            7.289979    688.744771               148.671593      4447.136012                         0.0                          NaN          0.0               NaN        NaN                        NaN             0.0           NaN          NaN          NaN         NaN          NaN          NaN                 NaN           NaN      NaN          NaN          NaN         NaN       NaN               NaN     NaN          NaN           NaN                   NaN          NaN             NaN      NaN                       0.0          0.0                 NaN                   NaN                    NaN             NaN       NaN                   NaN                       NaN                    NaN                             NaN                    NaN             NaN              NaN          NaN        NaN        NaN            NaN            NaN                  NaN       NaN               NaN           NaN                 NaN                 NaN             NaN               NaN              0.204324        0.0              NaN                NaN             NaN                         NaN\n",
       "min    5.473400e+04  7.069900e+04    500.000000    500.000000         0.000000     15.690000  4.000000e+03      0.000000      0.000000        0.000000                0.000000                0.000000      2.000000      0.000000       0.000000      2.000000      0.000000       0.000000      0.000000         0.000000         0.000000       0.000000            0.000000      0.000000                 0.000000         0.000000                         0.0                          NaN          1.0               NaN        NaN                        NaN             0.0           NaN          NaN          NaN         NaN          NaN          NaN                 NaN           NaN      NaN          NaN          NaN         NaN       NaN               NaN     NaN          NaN           NaN                   NaN          NaN             NaN      NaN                       0.0          0.0                 NaN                   NaN                    NaN             NaN       NaN                   NaN                       NaN                    NaN                             NaN                    NaN             NaN              NaN          NaN        NaN        NaN            NaN            NaN                  NaN       NaN               NaN           NaN                 NaN                 NaN             NaN               NaN              0.000000        0.0              NaN                NaN             NaN                         NaN\n",
       "25%    5.162210e+05  6.667800e+05   5500.000000   5400.000000      5000.000000    167.020000  4.040400e+04      8.170000      0.000000        0.000000               18.000000               22.000000      6.000000      0.000000    3703.000000     13.000000      0.000000       0.000000   5576.930000      5112.310000      4600.000000     662.180000            0.000000      0.000000                 0.000000       218.680000                         0.0                          NaN          1.0               NaN        NaN                        NaN             0.0           NaN          NaN          NaN         NaN          NaN          NaN                 NaN           NaN      NaN          NaN          NaN         NaN       NaN               NaN     NaN          NaN           NaN                   NaN          NaN             NaN      NaN                       0.0          0.0                 NaN                   NaN                    NaN             NaN       NaN                   NaN                       NaN                    NaN                             NaN                    NaN             NaN              NaN          NaN        NaN        NaN            NaN            NaN                  NaN       NaN               NaN           NaN                 NaN                 NaN             NaN               NaN              0.000000        0.0              NaN                NaN             NaN                         NaN\n",
       "50%    6.656650e+05  8.508120e+05  10000.000000   9600.000000      8975.000000    280.220000  5.900000e+04     13.400000      0.000000        1.000000               34.000000               90.000000      9.000000      0.000000    8850.000000     20.000000      0.000000       0.000000   9899.640319      9287.150000      8000.000000    1348.910000            0.000000      0.000000                 0.000000       546.140000                         0.0                          NaN          1.0               NaN        NaN                        NaN             0.0           NaN          NaN          NaN         NaN          NaN          NaN                 NaN           NaN      NaN          NaN          NaN         NaN       NaN               NaN     NaN          NaN           NaN                   NaN          NaN             NaN      NaN                       0.0          0.0                 NaN                   NaN                    NaN             NaN       NaN                   NaN                       NaN                    NaN                             NaN                    NaN             NaN              NaN          NaN        NaN        NaN            NaN            NaN                  NaN       NaN               NaN           NaN                 NaN                 NaN             NaN               NaN              0.000000        0.0              NaN                NaN             NaN                         NaN\n",
       "75%    8.377550e+05  1.047339e+06  15000.000000  15000.000000     14400.000000    430.780000  8.230000e+04     18.600000      0.000000        1.000000               52.000000              104.000000     12.000000      0.000000   17058.000000     29.000000      0.000000       0.000000  16534.433040     15798.810000     13653.260000    2833.400000            0.000000      0.000000                 0.000000      3293.160000                         0.0                          NaN          1.0               NaN        NaN                        NaN             0.0           NaN          NaN          NaN         NaN          NaN          NaN                 NaN           NaN      NaN          NaN          NaN         NaN       NaN               NaN     NaN          NaN           NaN                   NaN          NaN             NaN      NaN                       0.0          0.0                 NaN                   NaN                    NaN             NaN       NaN                   NaN                       NaN                    NaN                             NaN                    NaN             NaN              NaN          NaN        NaN        NaN            NaN            NaN                  NaN       NaN               NaN           NaN                 NaN                 NaN             NaN               NaN              0.000000        0.0              NaN                NaN             NaN                         NaN\n",
       "max    1.077501e+06  1.314167e+06  35000.000000  35000.000000     35000.000000   1305.190000  6.000000e+06     29.990000     11.000000        8.000000              120.000000              129.000000     44.000000      4.000000  149588.000000     90.000000   6311.470000    6307.370000  58563.679930     58563.680000     35000.020000   23563.680000          180.200000  29623.350000              7002.190000     36115.200000                         0.0                          NaN          1.0               NaN        NaN                        NaN             0.0           NaN          NaN          NaN         NaN          NaN          NaN                 NaN           NaN      NaN          NaN          NaN         NaN       NaN               NaN     NaN          NaN           NaN                   NaN          NaN             NaN      NaN                       0.0          0.0                 NaN                   NaN                    NaN             NaN       NaN                   NaN                       NaN                    NaN                             NaN                    NaN             NaN              NaN          NaN        NaN        NaN            NaN            NaN                  NaN       NaN               NaN           NaN                 NaN                 NaN             NaN               NaN              2.000000        0.0              NaN                NaN             NaN                         NaN"
      ]
     },
     "execution_count": 21,
     "metadata": {},
     "output_type": "execute_result"
    }
   ],
   "source": [
    "# Checking the numeric variables of the dataframes\n",
    "loan_df.describe()"
   ]
  },
  {
   "cell_type": "markdown",
   "id": "770ffc20",
   "metadata": {},
   "source": [
    "<a id=\"clean\"></a>\n",
    "<h2>   \n",
    "      <font color = blue >\n",
    "            <span style='font-family:Georgia'>\n",
    "            4. Data Cleaning & Manipulation\n",
    "            </span>   \n",
    "        </font>    \n",
    "</h2>"
   ]
  },
  {
   "cell_type": "markdown",
   "id": "1b0c5863",
   "metadata": {},
   "source": [
    "<a id=\"duplication\"></a>\n",
    "<h3>   \n",
    "      <font color = purple >\n",
    "            <span style='font-family:Georgia'>\n",
    "            4.1 Duplicate Rows Check\n",
    "            </span>   \n",
    "        </font>    \n",
    "</h3>"
   ]
  },
  {
   "cell_type": "code",
   "execution_count": 22,
   "id": "39fffeef",
   "metadata": {},
   "outputs": [
    {
     "name": "stdout",
     "output_type": "stream",
     "text": [
      "Number of duplicate rows:  0\n"
     ]
    }
   ],
   "source": [
    "# Check for duplicate rows in the dataset.\n",
    "# id column is used to check if the rows are duplicate\n",
    "duplicate_rows=loan_df[loan_df.duplicated(['id'])]\n",
    "print(\"Number of duplicate rows: \", len(duplicate_rows))"
   ]
  },
  {
   "cell_type": "markdown",
   "id": "3543fa57",
   "metadata": {},
   "source": [
    "<div class=\"alert alert-block alert-info\">\n",
    "    <span style='font-family:Georgia'>\n",
    "        <b>Insight: </b><br>There are no duplicate rows in the dataset\n",
    "    </span>    \n",
    "</div>"
   ]
  },
  {
   "cell_type": "markdown",
   "id": "489c2091",
   "metadata": {},
   "source": [
    "<a id=\"null\"></a>\n",
    "<h3>   \n",
    "      <font color = purple >\n",
    "            <span style='font-family:Georgia'>\n",
    "            4.2 Null Value Calculation\n",
    "            </span>   \n",
    "        </font>    \n",
    "</h3>"
   ]
  },
  {
   "cell_type": "markdown",
   "id": "7ad65a68",
   "metadata": {},
   "source": [
    "<h4>   \n",
    "      <font color = darkgreen >\n",
    "            <span style='font-family:Georgia'>\n",
    "            4.2.1 Loan Dataframe Missing Values\n",
    "            </span>   \n",
    "        </font>    \n",
    "</h4>"
   ]
  },
  {
   "cell_type": "code",
   "execution_count": 23,
   "id": "619fd8f7",
   "metadata": {},
   "outputs": [
    {
     "data": {
      "text/plain": [
       "<AxesSubplot:>"
      ]
     },
     "execution_count": 23,
     "metadata": {},
     "output_type": "execute_result"
    },
    {
     "data": {
      "image/png": "[encoded data removed]",
      "text/plain": [
       "<Figure size 1800x720 with 2 Axes>"
      ]
     },
     "metadata": {},
     "output_type": "display_data"
    }
   ],
   "source": [
    "import missingno as mn\n",
    "mn.matrix(loan_df)"
   ]
  },
  {
   "cell_type": "markdown",
   "id": "a4e96b0d",
   "metadata": {},
   "source": [
    "<div class=\"alert alert-block alert-info\">\n",
    "    <span style='font-family:Georgia'>\n",
    "        <b>Insight: </b><br>Based on the above Matrix, it is evidednt that the dataset has many missing values. Let's check for each column what is the % of missing values\n",
    "    </span>    \n",
    "</div>"
   ]
  },
  {
   "cell_type": "markdown",
   "id": "b24017a5",
   "metadata": {},
   "source": [
    "<h4>   \n",
    "      <font color = darkgreen >\n",
    "            <span style='font-family:Georgia'>\n",
    "            4.2.2 Rows with all null values\n",
    "            </span>   \n",
    "        </font>    \n",
    "</h4>"
   ]
  },
  {
   "cell_type": "code",
   "execution_count": 24,
   "id": "c7f198ec",
   "metadata": {},
   "outputs": [
    {
     "data": {
      "text/plain": [
       "0"
      ]
     },
     "execution_count": 24,
     "metadata": {},
     "output_type": "execute_result"
    }
   ],
   "source": [
    "# Number of rows which have all missing values\n",
    "loan_df.isnull().all(axis=1).sum()"
   ]
  },
  {
   "cell_type": "markdown",
   "id": "fc137a0f",
   "metadata": {},
   "source": [
    "<div class=\"alert alert-block alert-info\">\n",
    "    <span style='font-family:Georgia'>\n",
    "        <b>Insight: </b><br>There are 0 empty rows or rows having all the values as null in the entire dataset\n",
    "    </span>    \n",
    "</div>"
   ]
  },
  {
   "cell_type": "markdown",
   "id": "7a46c595",
   "metadata": {},
   "source": [
    "<h4>   \n",
    "      <font color = darkgreen >\n",
    "            <span style='font-family:Georgia'>\n",
    "            4.2.3 Columns with all null values\n",
    "            </span>   \n",
    "        </font>    \n",
    "</h4>"
   ]
  },
  {
   "cell_type": "code",
   "execution_count": 25,
   "id": "9022a4d0",
   "metadata": {},
   "outputs": [
    {
     "data": {
      "text/plain": [
       "54"
      ]
     },
     "execution_count": 25,
     "metadata": {},
     "output_type": "execute_result"
    }
   ],
   "source": [
    "# Number of columns through sum function which have missing values\n",
    "loan_df.isnull().all(axis=0).sum()"
   ]
  },
  {
   "cell_type": "markdown",
   "id": "f648ae9d",
   "metadata": {},
   "source": [
    "<div class=\"alert alert-block alert-info\">\n",
    "    <span style='font-family:Georgia'>\n",
    "        <b>Insight: </b><br>There are 54 empty columns or columns having all the values as null in the entire dataset. So we will drop these columns where all values are null as these won't add any value in our analysis\n",
    "    </span>    \n",
    "</div>"
   ]
  },
  {
   "cell_type": "markdown",
   "id": "cc777891",
   "metadata": {},
   "source": [
    "<a id=\"unnecessarycols\"></a>\n",
    "<h3>   \n",
    "      <font color = purple >\n",
    "            <span style='font-family:Georgia'>\n",
    "            4.3 Analyze & Delete Unnecessary Columns in data frame\n",
    "            </span>   \n",
    "        </font>    \n",
    "</h3>"
   ]
  },
  {
   "cell_type": "code",
   "execution_count": 27,
   "id": "cd030e84",
   "metadata": {},
   "outputs": [],
   "source": [
    "# Drop the columns which are irrelevant for the analysis\n",
    "\n",
    "irrelevant_columns=['desc', 'mths_since_last_delinq','mths_since_last_record','next_pymnt_d',\n",
    "                    'member_id', 'url', 'emp_title', 'zip_code', 'tax_liens',\n",
    "                    'pymnt_plan','title','initial_list_status','out_prncp','out_prncp_inv',\n",
    "                    'collections_12_mths_ex_med','policy_code','application_type','acc_now_delinq',\n",
    "                    'chargeoff_within_12_mths','delinq_amnt'\n",
    "                   ]\n",
    "loan_df = loan_df.drop(columns=irrelevant_columns)"
   ]
  },
  {
   "cell_type": "markdown",
   "id": "a53b152e",
   "metadata": {},
   "source": [
    "<div class=\"alert alert-block alert-info\">\n",
    "    <span style='font-family:Georgia'>\n",
    "        <b>Insight: </b><br>After dropping these irrelevant columns we are now left with 37 columns which has to be analyzed\n",
    "    </span>    \n",
    "</div>"
   ]
  },
  {
   "cell_type": "markdown",
   "id": "d7f774a0",
   "metadata": {},
   "source": [
    "<a id=\"stdval\"></a>\n",
    "<h3>   \n",
    "      <font color = purple >\n",
    "            <span style='font-family:Georgia'>\n",
    "            4.4 Standardize Values\n",
    "            </span>   \n",
    "        </font>    \n",
    "</h3>"
   ]
  },
  {
   "cell_type": "code",
   "execution_count": 28,
   "id": "2edf5d7a",
   "metadata": {},
   "outputs": [
    {
     "data": {
      "text/html": [
       "<div>\n",
       "<style scoped>\n",
       "    .dataframe tbody tr th:only-of-type {\n",
       "        vertical-align: middle;\n",
       "    }\n",
       "\n",
       "    .dataframe tbody tr th {\n",
       "        vertical-align: top;\n",
       "    }\n",
       "\n",
       "    .dataframe thead th {\n",
       "        text-align: right;\n",
       "    }\n",
       "</style>\n",
       "<table border=\"1\" class=\"dataframe\">\n",
       "  <thead>\n",
       "    <tr style=\"text-align: right;\">\n",
       "      <th></th>\n",
       "      <th>id</th>\n",
       "      <th>loan_amnt</th>\n",
       "      <th>funded_amnt</th>\n",
       "      <th>funded_amnt_inv</th>\n",
       "      <th>term</th>\n",
       "      <th>int_rate</th>\n",
       "      <th>installment</th>\n",
       "      <th>grade</th>\n",
       "      <th>sub_grade</th>\n",
       "      <th>emp_length</th>\n",
       "      <th>home_ownership</th>\n",
       "      <th>annual_inc</th>\n",
       "      <th>verification_status</th>\n",
       "      <th>issue_d</th>\n",
       "      <th>loan_status</th>\n",
       "      <th>purpose</th>\n",
       "      <th>addr_state</th>\n",
       "      <th>dti</th>\n",
       "      <th>delinq_2yrs</th>\n",
       "      <th>earliest_cr_line</th>\n",
       "      <th>inq_last_6mths</th>\n",
       "      <th>open_acc</th>\n",
       "      <th>pub_rec</th>\n",
       "      <th>revol_bal</th>\n",
       "      <th>revol_util</th>\n",
       "      <th>total_acc</th>\n",
       "      <th>total_pymnt</th>\n",
       "      <th>total_pymnt_inv</th>\n",
       "      <th>total_rec_prncp</th>\n",
       "      <th>total_rec_int</th>\n",
       "      <th>total_rec_late_fee</th>\n",
       "      <th>recoveries</th>\n",
       "      <th>collection_recovery_fee</th>\n",
       "      <th>last_pymnt_d</th>\n",
       "      <th>last_pymnt_amnt</th>\n",
       "      <th>last_credit_pull_d</th>\n",
       "      <th>mths_since_last_major_derog</th>\n",
       "      <th>annual_inc_joint</th>\n",
       "      <th>dti_joint</th>\n",
       "      <th>verification_status_joint</th>\n",
       "      <th>tot_coll_amt</th>\n",
       "      <th>tot_cur_bal</th>\n",
       "      <th>open_acc_6m</th>\n",
       "      <th>open_il_6m</th>\n",
       "      <th>open_il_12m</th>\n",
       "      <th>open_il_24m</th>\n",
       "      <th>mths_since_rcnt_il</th>\n",
       "      <th>total_bal_il</th>\n",
       "      <th>il_util</th>\n",
       "      <th>open_rv_12m</th>\n",
       "      <th>open_rv_24m</th>\n",
       "      <th>max_bal_bc</th>\n",
       "      <th>all_util</th>\n",
       "      <th>total_rev_hi_lim</th>\n",
       "      <th>inq_fi</th>\n",
       "      <th>total_cu_tl</th>\n",
       "      <th>inq_last_12m</th>\n",
       "      <th>acc_open_past_24mths</th>\n",
       "      <th>avg_cur_bal</th>\n",
       "      <th>bc_open_to_buy</th>\n",
       "      <th>bc_util</th>\n",
       "      <th>mo_sin_old_il_acct</th>\n",
       "      <th>mo_sin_old_rev_tl_op</th>\n",
       "      <th>mo_sin_rcnt_rev_tl_op</th>\n",
       "      <th>mo_sin_rcnt_tl</th>\n",
       "      <th>mort_acc</th>\n",
       "      <th>mths_since_recent_bc</th>\n",
       "      <th>mths_since_recent_bc_dlq</th>\n",
       "      <th>mths_since_recent_inq</th>\n",
       "      <th>mths_since_recent_revol_delinq</th>\n",
       "      <th>num_accts_ever_120_pd</th>\n",
       "      <th>num_actv_bc_tl</th>\n",
       "      <th>num_actv_rev_tl</th>\n",
       "      <th>num_bc_sats</th>\n",
       "      <th>num_bc_tl</th>\n",
       "      <th>num_il_tl</th>\n",
       "      <th>num_op_rev_tl</th>\n",
       "      <th>num_rev_accts</th>\n",
       "      <th>num_rev_tl_bal_gt_0</th>\n",
       "      <th>num_sats</th>\n",
       "      <th>num_tl_120dpd_2m</th>\n",
       "      <th>num_tl_30dpd</th>\n",
       "      <th>num_tl_90g_dpd_24m</th>\n",
       "      <th>num_tl_op_past_12m</th>\n",
       "      <th>pct_tl_nvr_dlq</th>\n",
       "      <th>percent_bc_gt_75</th>\n",
       "      <th>pub_rec_bankruptcies</th>\n",
       "      <th>tot_hi_cred_lim</th>\n",
       "      <th>total_bal_ex_mort</th>\n",
       "      <th>total_bc_limit</th>\n",
       "      <th>total_il_high_credit_limit</th>\n",
       "    </tr>\n",
       "  </thead>\n",
       "  <tbody>\n",
       "    <tr>\n",
       "      <th>0</th>\n",
       "      <td>1077501</td>\n",
       "      <td>5000</td>\n",
       "      <td>5000</td>\n",
       "      <td>4975.0</td>\n",
       "      <td>36 months</td>\n",
       "      <td>10.65%</td>\n",
       "      <td>162.87</td>\n",
       "      <td>B</td>\n",
       "      <td>B2</td>\n",
       "      <td>10</td>\n",
       "      <td>RENT</td>\n",
       "      <td>24000.0</td>\n",
       "      <td>Verified</td>\n",
       "      <td>Dec-11</td>\n",
       "      <td>Fully Paid</td>\n",
       "      <td>credit_card</td>\n",
       "      <td>AZ</td>\n",
       "      <td>27.65</td>\n",
       "      <td>0</td>\n",
       "      <td>Jan-85</td>\n",
       "      <td>1</td>\n",
       "      <td>3</td>\n",
       "      <td>0</td>\n",
       "      <td>13648</td>\n",
       "      <td>83.70%</td>\n",
       "      <td>9</td>\n",
       "      <td>5863.155187</td>\n",
       "      <td>5833.84</td>\n",
       "      <td>5000.00</td>\n",
       "      <td>863.16</td>\n",
       "      <td>0.00</td>\n",
       "      <td>0.00</td>\n",
       "      <td>0.00</td>\n",
       "      <td>Jan-15</td>\n",
       "      <td>171.62</td>\n",
       "      <td>May-16</td>\n",
       "      <td>NaN</td>\n",
       "      <td>NaN</td>\n",
       "      <td>NaN</td>\n",
       "      <td>NaN</td>\n",
       "      <td>NaN</td>\n",
       "      <td>NaN</td>\n",
       "      <td>NaN</td>\n",
       "      <td>NaN</td>\n",
       "      <td>NaN</td>\n",
       "      <td>NaN</td>\n",
       "      <td>NaN</td>\n",
       "      <td>NaN</td>\n",
       "      <td>NaN</td>\n",
       "      <td>NaN</td>\n",
       "      <td>NaN</td>\n",
       "      <td>NaN</td>\n",
       "      <td>NaN</td>\n",
       "      <td>NaN</td>\n",
       "      <td>NaN</td>\n",
       "      <td>NaN</td>\n",
       "      <td>NaN</td>\n",
       "      <td>NaN</td>\n",
       "      <td>NaN</td>\n",
       "      <td>NaN</td>\n",
       "      <td>NaN</td>\n",
       "      <td>NaN</td>\n",
       "      <td>NaN</td>\n",
       "      <td>NaN</td>\n",
       "      <td>NaN</td>\n",
       "      <td>NaN</td>\n",
       "      <td>NaN</td>\n",
       "      <td>NaN</td>\n",
       "      <td>NaN</td>\n",
       "      <td>NaN</td>\n",
       "      <td>NaN</td>\n",
       "      <td>NaN</td>\n",
       "      <td>NaN</td>\n",
       "      <td>NaN</td>\n",
       "      <td>NaN</td>\n",
       "      <td>NaN</td>\n",
       "      <td>NaN</td>\n",
       "      <td>NaN</td>\n",
       "      <td>NaN</td>\n",
       "      <td>NaN</td>\n",
       "      <td>NaN</td>\n",
       "      <td>NaN</td>\n",
       "      <td>NaN</td>\n",
       "      <td>NaN</td>\n",
       "      <td>NaN</td>\n",
       "      <td>NaN</td>\n",
       "      <td>0.0</td>\n",
       "      <td>NaN</td>\n",
       "      <td>NaN</td>\n",
       "      <td>NaN</td>\n",
       "      <td>NaN</td>\n",
       "    </tr>\n",
       "    <tr>\n",
       "      <th>1</th>\n",
       "      <td>1077430</td>\n",
       "      <td>2500</td>\n",
       "      <td>2500</td>\n",
       "      <td>2500.0</td>\n",
       "      <td>60 months</td>\n",
       "      <td>15.27%</td>\n",
       "      <td>59.83</td>\n",
       "      <td>C</td>\n",
       "      <td>C4</td>\n",
       "      <td>0</td>\n",
       "      <td>RENT</td>\n",
       "      <td>30000.0</td>\n",
       "      <td>Source Verified</td>\n",
       "      <td>Dec-11</td>\n",
       "      <td>Charged Off</td>\n",
       "      <td>car</td>\n",
       "      <td>GA</td>\n",
       "      <td>1.00</td>\n",
       "      <td>0</td>\n",
       "      <td>Apr-99</td>\n",
       "      <td>5</td>\n",
       "      <td>3</td>\n",
       "      <td>0</td>\n",
       "      <td>1687</td>\n",
       "      <td>9.40%</td>\n",
       "      <td>4</td>\n",
       "      <td>1008.710000</td>\n",
       "      <td>1008.71</td>\n",
       "      <td>456.46</td>\n",
       "      <td>435.17</td>\n",
       "      <td>0.00</td>\n",
       "      <td>117.08</td>\n",
       "      <td>1.11</td>\n",
       "      <td>Apr-13</td>\n",
       "      <td>119.66</td>\n",
       "      <td>Sep-13</td>\n",
       "      <td>NaN</td>\n",
       "      <td>NaN</td>\n",
       "      <td>NaN</td>\n",
       "      <td>NaN</td>\n",
       "      <td>NaN</td>\n",
       "      <td>NaN</td>\n",
       "      <td>NaN</td>\n",
       "      <td>NaN</td>\n",
       "      <td>NaN</td>\n",
       "      <td>NaN</td>\n",
       "      <td>NaN</td>\n",
       "      <td>NaN</td>\n",
       "      <td>NaN</td>\n",
       "      <td>NaN</td>\n",
       "      <td>NaN</td>\n",
       "      <td>NaN</td>\n",
       "      <td>NaN</td>\n",
       "      <td>NaN</td>\n",
       "      <td>NaN</td>\n",
       "      <td>NaN</td>\n",
       "      <td>NaN</td>\n",
       "      <td>NaN</td>\n",
       "      <td>NaN</td>\n",
       "      <td>NaN</td>\n",
       "      <td>NaN</td>\n",
       "      <td>NaN</td>\n",
       "      <td>NaN</td>\n",
       "      <td>NaN</td>\n",
       "      <td>NaN</td>\n",
       "      <td>NaN</td>\n",
       "      <td>NaN</td>\n",
       "      <td>NaN</td>\n",
       "      <td>NaN</td>\n",
       "      <td>NaN</td>\n",
       "      <td>NaN</td>\n",
       "      <td>NaN</td>\n",
       "      <td>NaN</td>\n",
       "      <td>NaN</td>\n",
       "      <td>NaN</td>\n",
       "      <td>NaN</td>\n",
       "      <td>NaN</td>\n",
       "      <td>NaN</td>\n",
       "      <td>NaN</td>\n",
       "      <td>NaN</td>\n",
       "      <td>NaN</td>\n",
       "      <td>NaN</td>\n",
       "      <td>NaN</td>\n",
       "      <td>NaN</td>\n",
       "      <td>NaN</td>\n",
       "      <td>NaN</td>\n",
       "      <td>0.0</td>\n",
       "      <td>NaN</td>\n",
       "      <td>NaN</td>\n",
       "      <td>NaN</td>\n",
       "      <td>NaN</td>\n",
       "    </tr>\n",
       "    <tr>\n",
       "      <th>2</th>\n",
       "      <td>1077175</td>\n",
       "      <td>2400</td>\n",
       "      <td>2400</td>\n",
       "      <td>2400.0</td>\n",
       "      <td>36 months</td>\n",
       "      <td>15.96%</td>\n",
       "      <td>84.33</td>\n",
       "      <td>C</td>\n",
       "      <td>C5</td>\n",
       "      <td>10</td>\n",
       "      <td>RENT</td>\n",
       "      <td>12252.0</td>\n",
       "      <td>Not Verified</td>\n",
       "      <td>Dec-11</td>\n",
       "      <td>Fully Paid</td>\n",
       "      <td>small_business</td>\n",
       "      <td>IL</td>\n",
       "      <td>8.72</td>\n",
       "      <td>0</td>\n",
       "      <td>Nov-01</td>\n",
       "      <td>2</td>\n",
       "      <td>2</td>\n",
       "      <td>0</td>\n",
       "      <td>2956</td>\n",
       "      <td>98.50%</td>\n",
       "      <td>10</td>\n",
       "      <td>3005.666844</td>\n",
       "      <td>3005.67</td>\n",
       "      <td>2400.00</td>\n",
       "      <td>605.67</td>\n",
       "      <td>0.00</td>\n",
       "      <td>0.00</td>\n",
       "      <td>0.00</td>\n",
       "      <td>Jun-14</td>\n",
       "      <td>649.91</td>\n",
       "      <td>May-16</td>\n",
       "      <td>NaN</td>\n",
       "      <td>NaN</td>\n",
       "      <td>NaN</td>\n",
       "      <td>NaN</td>\n",
       "      <td>NaN</td>\n",
       "      <td>NaN</td>\n",
       "      <td>NaN</td>\n",
       "      <td>NaN</td>\n",
       "      <td>NaN</td>\n",
       "      <td>NaN</td>\n",
       "      <td>NaN</td>\n",
       "      <td>NaN</td>\n",
       "      <td>NaN</td>\n",
       "      <td>NaN</td>\n",
       "      <td>NaN</td>\n",
       "      <td>NaN</td>\n",
       "      <td>NaN</td>\n",
       "      <td>NaN</td>\n",
       "      <td>NaN</td>\n",
       "      <td>NaN</td>\n",
       "      <td>NaN</td>\n",
       "      <td>NaN</td>\n",
       "      <td>NaN</td>\n",
       "      <td>NaN</td>\n",
       "      <td>NaN</td>\n",
       "      <td>NaN</td>\n",
       "      <td>NaN</td>\n",
       "      <td>NaN</td>\n",
       "      <td>NaN</td>\n",
       "      <td>NaN</td>\n",
       "      <td>NaN</td>\n",
       "      <td>NaN</td>\n",
       "      <td>NaN</td>\n",
       "      <td>NaN</td>\n",
       "      <td>NaN</td>\n",
       "      <td>NaN</td>\n",
       "      <td>NaN</td>\n",
       "      <td>NaN</td>\n",
       "      <td>NaN</td>\n",
       "      <td>NaN</td>\n",
       "      <td>NaN</td>\n",
       "      <td>NaN</td>\n",
       "      <td>NaN</td>\n",
       "      <td>NaN</td>\n",
       "      <td>NaN</td>\n",
       "      <td>NaN</td>\n",
       "      <td>NaN</td>\n",
       "      <td>NaN</td>\n",
       "      <td>NaN</td>\n",
       "      <td>NaN</td>\n",
       "      <td>0.0</td>\n",
       "      <td>NaN</td>\n",
       "      <td>NaN</td>\n",
       "      <td>NaN</td>\n",
       "      <td>NaN</td>\n",
       "    </tr>\n",
       "    <tr>\n",
       "      <th>3</th>\n",
       "      <td>1076863</td>\n",
       "      <td>10000</td>\n",
       "      <td>10000</td>\n",
       "      <td>10000.0</td>\n",
       "      <td>36 months</td>\n",
       "      <td>13.49%</td>\n",
       "      <td>339.31</td>\n",
       "      <td>C</td>\n",
       "      <td>C1</td>\n",
       "      <td>10</td>\n",
       "      <td>RENT</td>\n",
       "      <td>49200.0</td>\n",
       "      <td>Source Verified</td>\n",
       "      <td>Dec-11</td>\n",
       "      <td>Fully Paid</td>\n",
       "      <td>other</td>\n",
       "      <td>CA</td>\n",
       "      <td>20.00</td>\n",
       "      <td>0</td>\n",
       "      <td>Feb-96</td>\n",
       "      <td>1</td>\n",
       "      <td>10</td>\n",
       "      <td>0</td>\n",
       "      <td>5598</td>\n",
       "      <td>21%</td>\n",
       "      <td>37</td>\n",
       "      <td>12231.890000</td>\n",
       "      <td>12231.89</td>\n",
       "      <td>10000.00</td>\n",
       "      <td>2214.92</td>\n",
       "      <td>16.97</td>\n",
       "      <td>0.00</td>\n",
       "      <td>0.00</td>\n",
       "      <td>Jan-15</td>\n",
       "      <td>357.48</td>\n",
       "      <td>Apr-16</td>\n",
       "      <td>NaN</td>\n",
       "      <td>NaN</td>\n",
       "      <td>NaN</td>\n",
       "      <td>NaN</td>\n",
       "      <td>NaN</td>\n",
       "      <td>NaN</td>\n",
       "      <td>NaN</td>\n",
       "      <td>NaN</td>\n",
       "      <td>NaN</td>\n",
       "      <td>NaN</td>\n",
       "      <td>NaN</td>\n",
       "      <td>NaN</td>\n",
       "      <td>NaN</td>\n",
       "      <td>NaN</td>\n",
       "      <td>NaN</td>\n",
       "      <td>NaN</td>\n",
       "      <td>NaN</td>\n",
       "      <td>NaN</td>\n",
       "      <td>NaN</td>\n",
       "      <td>NaN</td>\n",
       "      <td>NaN</td>\n",
       "      <td>NaN</td>\n",
       "      <td>NaN</td>\n",
       "      <td>NaN</td>\n",
       "      <td>NaN</td>\n",
       "      <td>NaN</td>\n",
       "      <td>NaN</td>\n",
       "      <td>NaN</td>\n",
       "      <td>NaN</td>\n",
       "      <td>NaN</td>\n",
       "      <td>NaN</td>\n",
       "      <td>NaN</td>\n",
       "      <td>NaN</td>\n",
       "      <td>NaN</td>\n",
       "      <td>NaN</td>\n",
       "      <td>NaN</td>\n",
       "      <td>NaN</td>\n",
       "      <td>NaN</td>\n",
       "      <td>NaN</td>\n",
       "      <td>NaN</td>\n",
       "      <td>NaN</td>\n",
       "      <td>NaN</td>\n",
       "      <td>NaN</td>\n",
       "      <td>NaN</td>\n",
       "      <td>NaN</td>\n",
       "      <td>NaN</td>\n",
       "      <td>NaN</td>\n",
       "      <td>NaN</td>\n",
       "      <td>NaN</td>\n",
       "      <td>NaN</td>\n",
       "      <td>0.0</td>\n",
       "      <td>NaN</td>\n",
       "      <td>NaN</td>\n",
       "      <td>NaN</td>\n",
       "      <td>NaN</td>\n",
       "    </tr>\n",
       "    <tr>\n",
       "      <th>4</th>\n",
       "      <td>1075358</td>\n",
       "      <td>3000</td>\n",
       "      <td>3000</td>\n",
       "      <td>3000.0</td>\n",
       "      <td>60 months</td>\n",
       "      <td>12.69%</td>\n",
       "      <td>67.79</td>\n",
       "      <td>B</td>\n",
       "      <td>B5</td>\n",
       "      <td>1</td>\n",
       "      <td>RENT</td>\n",
       "      <td>80000.0</td>\n",
       "      <td>Source Verified</td>\n",
       "      <td>Dec-11</td>\n",
       "      <td>Current</td>\n",
       "      <td>other</td>\n",
       "      <td>OR</td>\n",
       "      <td>17.94</td>\n",
       "      <td>0</td>\n",
       "      <td>Jan-96</td>\n",
       "      <td>0</td>\n",
       "      <td>15</td>\n",
       "      <td>0</td>\n",
       "      <td>27783</td>\n",
       "      <td>53.90%</td>\n",
       "      <td>38</td>\n",
       "      <td>3513.330000</td>\n",
       "      <td>3513.33</td>\n",
       "      <td>2475.94</td>\n",
       "      <td>1037.39</td>\n",
       "      <td>0.00</td>\n",
       "      <td>0.00</td>\n",
       "      <td>0.00</td>\n",
       "      <td>May-16</td>\n",
       "      <td>67.79</td>\n",
       "      <td>May-16</td>\n",
       "      <td>NaN</td>\n",
       "      <td>NaN</td>\n",
       "      <td>NaN</td>\n",
       "      <td>NaN</td>\n",
       "      <td>NaN</td>\n",
       "      <td>NaN</td>\n",
       "      <td>NaN</td>\n",
       "      <td>NaN</td>\n",
       "      <td>NaN</td>\n",
       "      <td>NaN</td>\n",
       "      <td>NaN</td>\n",
       "      <td>NaN</td>\n",
       "      <td>NaN</td>\n",
       "      <td>NaN</td>\n",
       "      <td>NaN</td>\n",
       "      <td>NaN</td>\n",
       "      <td>NaN</td>\n",
       "      <td>NaN</td>\n",
       "      <td>NaN</td>\n",
       "      <td>NaN</td>\n",
       "      <td>NaN</td>\n",
       "      <td>NaN</td>\n",
       "      <td>NaN</td>\n",
       "      <td>NaN</td>\n",
       "      <td>NaN</td>\n",
       "      <td>NaN</td>\n",
       "      <td>NaN</td>\n",
       "      <td>NaN</td>\n",
       "      <td>NaN</td>\n",
       "      <td>NaN</td>\n",
       "      <td>NaN</td>\n",
       "      <td>NaN</td>\n",
       "      <td>NaN</td>\n",
       "      <td>NaN</td>\n",
       "      <td>NaN</td>\n",
       "      <td>NaN</td>\n",
       "      <td>NaN</td>\n",
       "      <td>NaN</td>\n",
       "      <td>NaN</td>\n",
       "      <td>NaN</td>\n",
       "      <td>NaN</td>\n",
       "      <td>NaN</td>\n",
       "      <td>NaN</td>\n",
       "      <td>NaN</td>\n",
       "      <td>NaN</td>\n",
       "      <td>NaN</td>\n",
       "      <td>NaN</td>\n",
       "      <td>NaN</td>\n",
       "      <td>NaN</td>\n",
       "      <td>NaN</td>\n",
       "      <td>0.0</td>\n",
       "      <td>NaN</td>\n",
       "      <td>NaN</td>\n",
       "      <td>NaN</td>\n",
       "      <td>NaN</td>\n",
       "    </tr>\n",
       "  </tbody>\n",
       "</table>\n",
       "</div>"
      ],
      "text/plain": [
       "        id  loan_amnt  funded_amnt  funded_amnt_inv        term int_rate  installment grade sub_grade  emp_length home_ownership  annual_inc verification_status issue_d  loan_status         purpose addr_state    dti  delinq_2yrs earliest_cr_line  inq_last_6mths  open_acc  pub_rec  revol_bal revol_util  total_acc   total_pymnt  total_pymnt_inv  total_rec_prncp  total_rec_int  total_rec_late_fee  recoveries  collection_recovery_fee last_pymnt_d  last_pymnt_amnt last_credit_pull_d  mths_since_last_major_derog  annual_inc_joint  dti_joint  verification_status_joint  tot_coll_amt  tot_cur_bal  open_acc_6m  open_il_6m  open_il_12m  open_il_24m  mths_since_rcnt_il  total_bal_il  il_util  open_rv_12m  open_rv_24m  max_bal_bc  all_util  total_rev_hi_lim  inq_fi  total_cu_tl  inq_last_12m  acc_open_past_24mths  avg_cur_bal  bc_open_to_buy  bc_util  mo_sin_old_il_acct  mo_sin_old_rev_tl_op  mo_sin_rcnt_rev_tl_op  mo_sin_rcnt_tl  mort_acc  mths_since_recent_bc  mths_since_recent_bc_dlq  mths_since_recent_inq  mths_since_recent_revol_delinq  num_accts_ever_120_pd  num_actv_bc_tl  num_actv_rev_tl  num_bc_sats  num_bc_tl  num_il_tl  num_op_rev_tl  num_rev_accts  num_rev_tl_bal_gt_0  num_sats  num_tl_120dpd_2m  num_tl_30dpd  num_tl_90g_dpd_24m  num_tl_op_past_12m  pct_tl_nvr_dlq  percent_bc_gt_75  pub_rec_bankruptcies  tot_hi_cred_lim  total_bal_ex_mort  total_bc_limit  total_il_high_credit_limit\n",
       "0  1077501       5000         5000           4975.0   36 months   10.65%       162.87     B        B2          10           RENT     24000.0            Verified  Dec-11   Fully Paid     credit_card         AZ  27.65            0           Jan-85               1         3        0      13648     83.70%          9   5863.155187          5833.84          5000.00         863.16                0.00        0.00                     0.00       Jan-15           171.62             May-16                          NaN               NaN        NaN                        NaN           NaN          NaN          NaN         NaN          NaN          NaN                 NaN           NaN      NaN          NaN          NaN         NaN       NaN               NaN     NaN          NaN           NaN                   NaN          NaN             NaN      NaN                 NaN                   NaN                    NaN             NaN       NaN                   NaN                       NaN                    NaN                             NaN                    NaN             NaN              NaN          NaN        NaN        NaN            NaN            NaN                  NaN       NaN               NaN           NaN                 NaN                 NaN             NaN               NaN                   0.0              NaN                NaN             NaN                         NaN\n",
       "1  1077430       2500         2500           2500.0   60 months   15.27%        59.83     C        C4           0           RENT     30000.0     Source Verified  Dec-11  Charged Off             car         GA   1.00            0           Apr-99               5         3        0       1687      9.40%          4   1008.710000          1008.71           456.46         435.17                0.00      117.08                     1.11       Apr-13           119.66             Sep-13                          NaN               NaN        NaN                        NaN           NaN          NaN          NaN         NaN          NaN          NaN                 NaN           NaN      NaN          NaN          NaN         NaN       NaN               NaN     NaN          NaN           NaN                   NaN          NaN             NaN      NaN                 NaN                   NaN                    NaN             NaN       NaN                   NaN                       NaN                    NaN                             NaN                    NaN             NaN              NaN          NaN        NaN        NaN            NaN            NaN                  NaN       NaN               NaN           NaN                 NaN                 NaN             NaN               NaN                   0.0              NaN                NaN             NaN                         NaN\n",
       "2  1077175       2400         2400           2400.0   36 months   15.96%        84.33     C        C5          10           RENT     12252.0        Not Verified  Dec-11   Fully Paid  small_business         IL   8.72            0           Nov-01               2         2        0       2956     98.50%         10   3005.666844          3005.67          2400.00         605.67                0.00        0.00                     0.00       Jun-14           649.91             May-16                          NaN               NaN        NaN                        NaN           NaN          NaN          NaN         NaN          NaN          NaN                 NaN           NaN      NaN          NaN          NaN         NaN       NaN               NaN     NaN          NaN           NaN                   NaN          NaN             NaN      NaN                 NaN                   NaN                    NaN             NaN       NaN                   NaN                       NaN                    NaN                             NaN                    NaN             NaN              NaN          NaN        NaN        NaN            NaN            NaN                  NaN       NaN               NaN           NaN                 NaN                 NaN             NaN               NaN                   0.0              NaN                NaN             NaN                         NaN\n",
       "3  1076863      10000        10000          10000.0   36 months   13.49%       339.31     C        C1          10           RENT     49200.0     Source Verified  Dec-11   Fully Paid           other         CA  20.00            0           Feb-96               1        10        0       5598        21%         37  12231.890000         12231.89         10000.00        2214.92               16.97        0.00                     0.00       Jan-15           357.48             Apr-16                          NaN               NaN        NaN                        NaN           NaN          NaN          NaN         NaN          NaN          NaN                 NaN           NaN      NaN          NaN          NaN         NaN       NaN               NaN     NaN          NaN           NaN                   NaN          NaN             NaN      NaN                 NaN                   NaN                    NaN             NaN       NaN                   NaN                       NaN                    NaN                             NaN                    NaN             NaN              NaN          NaN        NaN        NaN            NaN            NaN                  NaN       NaN               NaN           NaN                 NaN                 NaN             NaN               NaN                   0.0              NaN                NaN             NaN                         NaN\n",
       "4  1075358       3000         3000           3000.0   60 months   12.69%        67.79     B        B5           1           RENT     80000.0     Source Verified  Dec-11      Current           other         OR  17.94            0           Jan-96               0        15        0      27783     53.90%         38   3513.330000          3513.33          2475.94        1037.39                0.00        0.00                     0.00       May-16            67.79             May-16                          NaN               NaN        NaN                        NaN           NaN          NaN          NaN         NaN          NaN          NaN                 NaN           NaN      NaN          NaN          NaN         NaN       NaN               NaN     NaN          NaN           NaN                   NaN          NaN             NaN      NaN                 NaN                   NaN                    NaN             NaN       NaN                   NaN                       NaN                    NaN                             NaN                    NaN             NaN              NaN          NaN        NaN        NaN            NaN            NaN                  NaN       NaN               NaN           NaN                 NaN                 NaN             NaN               NaN                   0.0              NaN                NaN             NaN                         NaN"
      ]
     },
     "execution_count": 28,
     "metadata": {},
     "output_type": "execute_result"
    }
   ],
   "source": [
    "# Extracting digits from Employee's length column i.e. Employee's Tenure.This variable will add value in our analysis\n",
    "# If the tenure is less than 1 year, then the value will be 0\n",
    "# If the tenure is more than 10 years, then the value will be 10\n",
    "loan_df['emp_length']=loan_df.emp_length.apply(transform_emp_duration)\n",
    "loan_df.head(5)"
   ]
  },
  {
   "cell_type": "code",
   "execution_count": 29,
   "id": "9129f64e",
   "metadata": {},
   "outputs": [
    {
     "name": "stdout",
     "output_type": "stream",
     "text": [
      "Total number of null values before cleaning pub_rec_bankruptcies\n",
      "697\n",
      "Total number of null values after cleaning pub_rec_bankruptcies\n",
      "0\n"
     ]
    }
   ],
   "source": [
    "# Clean the pub_rec_bankruptcies column as it will be used in analysis\n",
    "print('Total number of null values before cleaning pub_rec_bankruptcies')\n",
    "print(loan_df.pub_rec_bankruptcies.isnull().sum())\n",
    "\n",
    "# Replacing the 'Not Known' with NA values\n",
    "loan_df.pub_rec_bankruptcies.fillna('Not Known',inplace=True)\n",
    "\n",
    "print('Total number of null values after cleaning pub_rec_bankruptcies')\n",
    "print(loan_df.pub_rec_bankruptcies.isnull().sum())\n"
   ]
  },
  {
   "cell_type": "code",
   "execution_count": 30,
   "id": "fd90bef7",
   "metadata": {},
   "outputs": [],
   "source": [
    "# During the data manipulation and cleaning phase, a step involves removing the percentage symbol from the interest rate column to facilitate its further analysis.\n",
    "loan_df['int_rate']=loan_df['int_rate'].str.rstrip('%')\n",
    "\n",
    "# step is implemented to eliminate the percentage symbol from the 'revol_util' column, enabling its use for further analysis.\n",
    "loan_df['revol_util']=loan_df['revol_util'].str.rstrip('%')"
   ]
  },
  {
   "cell_type": "code",
   "execution_count": 31,
   "id": "622b5314",
   "metadata": {},
   "outputs": [
    {
     "ename": "NameError",
     "evalue": "name 'columns1' is not defined",
     "output_type": "error",
     "traceback": [
      "\u001b[0;31m---------------------------------------------------------------------------\u001b[0m",
      "\u001b[0;31mNameError\u001b[0m                                 Traceback (most recent call last)",
      "\u001b[0;32m/var/folders/v_/h0pdvpp532d0lg0hswlpv2_00000gq/T/ipykernel_11299/3455964660.py\u001b[0m in \u001b[0;36m<module>\u001b[0;34m\u001b[0m\n\u001b[1;32m      1\u001b[0m \u001b[0;31m# Converting columns to numeric data as these values will be used in data modeling and plotting\u001b[0m\u001b[0;34m\u001b[0m\u001b[0;34m\u001b[0m\u001b[0m\n\u001b[1;32m      2\u001b[0m \u001b[0mnumeric_columns\u001b[0m \u001b[0;34m=\u001b[0m \u001b[0;34m[\u001b[0m\u001b[0;34m'loan_amnt'\u001b[0m\u001b[0;34m,\u001b[0m\u001b[0;34m'funded_amnt'\u001b[0m\u001b[0;34m,\u001b[0m\u001b[0;34m'int_rate'\u001b[0m\u001b[0;34m,\u001b[0m\u001b[0;34m'funded_amnt_inv'\u001b[0m\u001b[0;34m,\u001b[0m\u001b[0;34m'installment'\u001b[0m\u001b[0;34m,\u001b[0m\u001b[0;34m'annual_inc'\u001b[0m\u001b[0;34m,\u001b[0m\u001b[0;34m'dti'\u001b[0m\u001b[0;34m,\u001b[0m\u001b[0;34m'emp_length'\u001b[0m\u001b[0;34m,\u001b[0m\u001b[0;34m'total_pymnt'\u001b[0m\u001b[0;34m]\u001b[0m\u001b[0;34m\u001b[0m\u001b[0;34m\u001b[0m\u001b[0m\n\u001b[0;32m----> 3\u001b[0;31m \u001b[0mloan_df\u001b[0m\u001b[0;34m[\u001b[0m\u001b[0mcolumns1\u001b[0m\u001b[0;34m]\u001b[0m\u001b[0;34m=\u001b[0m\u001b[0mloan_df\u001b[0m\u001b[0;34m[\u001b[0m\u001b[0mnumeric_columns\u001b[0m\u001b[0;34m]\u001b[0m\u001b[0;34m.\u001b[0m\u001b[0mapply\u001b[0m\u001b[0;34m(\u001b[0m\u001b[0mpd\u001b[0m\u001b[0;34m.\u001b[0m\u001b[0mto_numeric\u001b[0m\u001b[0;34m)\u001b[0m\u001b[0;34m\u001b[0m\u001b[0;34m\u001b[0m\u001b[0m\n\u001b[0m",
      "\u001b[0;31mNameError\u001b[0m: name 'columns1' is not defined"
     ]
    }
   ],
   "source": [
    "# Converting columns to numeric data as these values will be used in data modeling and plotting\n",
    "numeric_columns = ['loan_amnt','funded_amnt','int_rate','funded_amnt_inv','installment','annual_inc','dti','emp_length','total_pymnt']\n",
    "loan_df[columns1]=loan_df[numeric_columns].apply(pd.to_numeric)"
   ]
  },
  {
   "cell_type": "code",
   "execution_count": null,
   "id": "19c80afb",
   "metadata": {},
   "outputs": [],
   "source": [
    "loan_df.annual_inc.describe()"
   ]
  },
  {
   "cell_type": "code",
   "execution_count": null,
   "id": "4b456886",
   "metadata": {},
   "outputs": [],
   "source": [
    "# Excluding the 'current' customers as they are not necessary for the determination of driving factors.\n",
    "loan_df = loan_df[loan_df.loan_status != \"Current\"]"
   ]
  },
  {
   "cell_type": "code",
   "execution_count": null,
   "id": "16e78e6d",
   "metadata": {},
   "outputs": [],
   "source": [
    "print(\"Shape of the data frame :\",loan_df.shape)"
   ]
  },
  {
   "cell_type": "code",
   "execution_count": null,
   "id": "6ee26279",
   "metadata": {},
   "outputs": [],
   "source": [
    "# Delete rows containing either 50% or more than 50% NaN Values\n",
    "perc = 50.0 # Here N is 50\n",
    "min_count =  int(((100-perc)/100)*loan_df.shape[1] + 1)\n",
    "print(\"rows containing either 50% or more than 50% NaN Values :\", min_count)"
   ]
  },
  {
   "cell_type": "code",
   "execution_count": null,
   "id": "dcafaa79",
   "metadata": {},
   "outputs": [],
   "source": [
    "modified_df = loan_df.dropna( axis=0, thresh=min_count)"
   ]
  },
  {
   "cell_type": "code",
   "execution_count": null,
   "id": "f07c21da",
   "metadata": {},
   "outputs": [],
   "source": [
    "(modified_df.loan_status.value_counts()*100)/len(mod_df)"
   ]
  },
  {
   "cell_type": "code",
   "execution_count": null,
   "id": "d320cc23",
   "metadata": {},
   "outputs": [],
   "source": [
    "# Calculating the percentages of different 'loan_status' categories in relation to the total number of issued loans.\n",
    "loan_df = modified_df\n",
    "(loan_df.loan_status.value_counts()*100)/len(loan_df)"
   ]
  },
  {
   "cell_type": "code",
   "execution_count": null,
   "id": "98c5a1f4",
   "metadata": {},
   "outputs": [],
   "source": [
    "# Convert revol_util to numeric data type\n",
    "loan_df.revol_util = pd.to_numeric(loan_df.revol_util)"
   ]
  },
  {
   "cell_type": "code",
   "execution_count": null,
   "id": "5fcf6673",
   "metadata": {},
   "outputs": [],
   "source": [
    "# Extracting month and year\n",
    "df_month_year = loan_df['issue_d'].str.partition(\"-\", True)     \n",
    "loan_df['issue_month']=df_month_year[0]                       \n",
    "loan_df['issue_year']='20' + df_month_year[2]"
   ]
  },
  {
   "cell_type": "markdown",
   "id": "4b3ab9db",
   "metadata": {},
   "source": [
    "<a id=\"outlier\"></a>\n",
    "<h3>   \n",
    "      <font color = purple >\n",
    "            <span style='font-family:Georgia'>\n",
    "            4.5 Outlier Identification & Removal\n",
    "            </span>   \n",
    "        </font>    \n",
    "</h3>"
   ]
  },
  {
   "cell_type": "markdown",
   "id": "2746c728",
   "metadata": {},
   "source": [
    "Box Plot helps in identifying the outliers"
   ]
  },
  {
   "cell_type": "markdown",
   "id": "3075df39",
   "metadata": {},
   "source": [
    "##### Annual Income"
   ]
  },
  {
   "cell_type": "code",
   "execution_count": null,
   "id": "5f700df8",
   "metadata": {},
   "outputs": [],
   "source": [
    "# Drawing Boxplot for Annual Income\n",
    "plt.figure(figsize=(15,7))\n",
    "with plt.style.context('ggplot'):\n",
    "  sns.boxplot(y=loan_df.annual_inc)"
   ]
  },
  {
   "cell_type": "code",
   "execution_count": null,
   "id": "2f866545",
   "metadata": {},
   "outputs": [],
   "source": [
    "quant_info = loan_df.annual_inc.quantile([0.5, 0.75,0.90, 0.95, 0.99])\n",
    "quant_info"
   ]
  },
  {
   "cell_type": "markdown",
   "id": "1f69421c",
   "metadata": {},
   "source": [
    "<div class=\"alert alert-block alert-info\">\n",
    "    <span style='font-family:Georgia'>\n",
    "        <b>Insight: </b><br>\n",
    "        1. There are outliers, so we need to remove those<br>\n",
    "        2. Let's take a threshold of 95 percentile\n",
    "    </span>    \n",
    "</div>"
   ]
  },
  {
   "cell_type": "code",
   "execution_count": null,
   "id": "b223d284",
   "metadata": {},
   "outputs": [],
   "source": [
    "# Statistics for Quantitative Variables\n",
    "\n",
    "print('Before removing Outliers from Annual Income :\\n')\n",
    "print(loan_df['annual_inc'].describe(),'\\n')\n",
    "\n",
    "# Removing Outliers where Quantile >= 0.95 \n",
    "\n",
    "loan_df=loan_df[loan_df[\"annual_inc\"]< loan_df[\"annual_inc\"].quantile(0.95)]\n",
    "\n",
    "print('After removing outliers from annual Income:\\n')\n",
    "print(loan_df[\"annual_inc\"].describe())"
   ]
  },
  {
   "cell_type": "code",
   "execution_count": null,
   "id": "7d80eaea",
   "metadata": {},
   "outputs": [],
   "source": [
    "quant_info = loan_df[\"annual_inc\"].quantile([0.5, 0.75,0.90, 0.95, 0.99])\n",
    "quant_info"
   ]
  },
  {
   "cell_type": "code",
   "execution_count": null,
   "id": "c5ba3856",
   "metadata": {},
   "outputs": [],
   "source": [
    "# Drawing Boxplot for Annual Income\n",
    "plt.figure(figsize=(15,7))\n",
    "with plt.style.context('ggplot'):\n",
    "  sns.boxplot(loan_df.annual_inc)"
   ]
  },
  {
   "cell_type": "markdown",
   "id": "4aa49d1f",
   "metadata": {},
   "source": [
    "<div class=\"alert alert-block alert-info\">\n",
    "    <span style='font-family:Georgia'>\n",
    "        <b>Insight: </b><br>The outliers have been removed that are above 95 percentile\n",
    "    </span>    \n",
    "</div>"
   ]
  },
  {
   "cell_type": "markdown",
   "id": "afe14767",
   "metadata": {},
   "source": [
    "##### Loan Amount"
   ]
  },
  {
   "cell_type": "code",
   "execution_count": null,
   "id": "8835b541",
   "metadata": {},
   "outputs": [],
   "source": [
    "#Getting quantitative variables with describe for loan amount\n",
    "loan_df['loan_amnt'].describe()"
   ]
  },
  {
   "cell_type": "code",
   "execution_count": null,
   "id": "c531881c",
   "metadata": {},
   "outputs": [],
   "source": [
    "quant_info = loan_df[\"loan_amnt\"].quantile([0.5, 0.75,0.90, 0.95, 0.97,0.98, 0.99])\n",
    "quant_info"
   ]
  },
  {
   "cell_type": "code",
   "execution_count": null,
   "id": "e523d05c",
   "metadata": {},
   "outputs": [],
   "source": [
    "#Drawing Box Plot for loan amount\n",
    "plt.figure(figsize=(15,7))\n",
    "with plt.style.context('ggplot'):\n",
    "  sns.boxplot(loan_df.loan_amnt)"
   ]
  },
  {
   "cell_type": "markdown",
   "id": "5259c92b",
   "metadata": {},
   "source": [
    "<div class=\"alert alert-block alert-info\">\n",
    "    <span style='font-family:Georgia'>\n",
    "        <b>Insight: </b><br>The columns exhibit a predominantly continuous distribution with a few outlier values. Hence, considering the distribution's predominantly continuous nature, there's no necessity to remove these outliers/extreme values from the aforementioned columns.\n",
    "    </span>    \n",
    "</div>"
   ]
  },
  {
   "cell_type": "markdown",
   "id": "8cb15085",
   "metadata": {},
   "source": [
    "##### Total Payment"
   ]
  },
  {
   "cell_type": "code",
   "execution_count": null,
   "id": "5e5d05d9",
   "metadata": {},
   "outputs": [],
   "source": [
    "#Getting quantitative variables with describe for total payment\n",
    "loan_df[\"total_pymnt\"].describe()"
   ]
  },
  {
   "cell_type": "code",
   "execution_count": null,
   "id": "58e6d510",
   "metadata": {},
   "outputs": [],
   "source": [
    "quant_info = loan_df[\"total_pymnt\"].quantile([0.5, 0.75,0.90, 0.95, 0.97,0.98, 0.99])\n",
    "quant_info"
   ]
  },
  {
   "cell_type": "code",
   "execution_count": null,
   "id": "59b13f1f",
   "metadata": {},
   "outputs": [],
   "source": [
    "# Drawing Boxplot for Total Payment\n",
    "plt.figure(figsize=(15,7))\n",
    "with plt.style.context('ggplot'):\n",
    "  sns.boxplot(loan_df.total_pymnt)"
   ]
  },
  {
   "cell_type": "markdown",
   "id": "a655fa2e",
   "metadata": {},
   "source": [
    "<div class=\"alert alert-block alert-info\">\n",
    "    <span style='font-family:Georgia'>\n",
    "        <b>Insight: </b><br>The columns exhibit a predominantly continuous distribution with a few outlier values. Hence, considering the distribution's predominantly continuous nature, there's no necessity to remove these outliers/extreme values from the aforementioned columns.\n",
    "    </span>    \n",
    "</div>"
   ]
  },
  {
   "cell_type": "markdown",
   "id": "39143e2c",
   "metadata": {},
   "source": [
    "##### Interest Rate"
   ]
  },
  {
   "cell_type": "code",
   "execution_count": null,
   "id": "9473a19f",
   "metadata": {},
   "outputs": [],
   "source": [
    "#Basic Statistics with Interest Rate\n",
    "\n",
    "loan_df['int_rate'].describe()"
   ]
  },
  {
   "cell_type": "code",
   "execution_count": null,
   "id": "4e124689",
   "metadata": {},
   "outputs": [],
   "source": [
    "quant_info = loan_df[\"int_rate\"].quantile([0.5, 0.75,0.90, 0.95, 0.97,0.98, 0.99])\n",
    "quant_info"
   ]
  },
  {
   "cell_type": "code",
   "execution_count": null,
   "id": "d12fa6c7",
   "metadata": {},
   "outputs": [],
   "source": [
    "# Drawing Boxplot for Interest Rate\n",
    "plt.figure(figsize=(15,7))\n",
    "with plt.style.context('ggplot'):\n",
    "  sns.boxplot(loan_df.int_rate)"
   ]
  },
  {
   "cell_type": "markdown",
   "id": "aceca06f",
   "metadata": {},
   "source": [
    "<div class=\"alert alert-block alert-info\">\n",
    "    <span style='font-family:Georgia'>\n",
    "        <b>Insight: </b><br>The columns exhibit a predominantly continuous distribution with a few outlier values. Hence, considering the distribution's predominantly continuous nature, there's no necessity to remove these outliers/extreme values from the aforementioned columns.\n",
    "    </span>    \n",
    "</div>"
   ]
  },
  {
   "cell_type": "code",
   "execution_count": null,
   "id": "17ce8e78",
   "metadata": {},
   "outputs": [],
   "source": [
    "# Checking the percentage of null values in each column\n",
    "round(loan_df.isnull().sum() / loan_df.shape[0] * 100.00,2)"
   ]
  },
  {
   "cell_type": "markdown",
   "id": "8c28339b",
   "metadata": {},
   "source": [
    "<div class=\"alert alert-block alert-info\">\n",
    "    <span style='font-family:Georgia'>\n",
    "        <b>Insight: </b><br>All the columns have null values which is less than 1%\n",
    "    </span>    \n",
    "</div>"
   ]
  },
  {
   "cell_type": "markdown",
   "id": "e87a569f",
   "metadata": {},
   "source": [
    "<a id=\"analysis\"></a>\n",
    "<h2>   \n",
    "      <font color = blue >\n",
    "            <span style='font-family:Georgia'>\n",
    "            5. Analysis\n",
    "            </span>   \n",
    "        </font>    \n",
    "</h2>"
   ]
  },
  {
   "cell_type": "markdown",
   "id": "c56d8c62",
   "metadata": {},
   "source": [
    "<div class=\"alert alert-block alert-warning\">\n",
    "    <span style='font-family:Georgia'>\n",
    "        <b>Strategy:</b> \n",
    "        <p>The data analysis flow has been planned in following way :</p>\n",
    "        <ul>\n",
    "            <li>Imbalance in Data</li>\n",
    "            <li>Categorical Data Analysis</li>\n",
    "            <ul>\n",
    "                <li>Categorical segmented Univariate Analysis</li>\n",
    "                <li>Categorical Bi/Multivariate analysis</li>\n",
    "            </ul>\n",
    "            <li>Numeric Data Analysis</li>\n",
    "            <ul>\n",
    "                <li>Bi-furcation of databased based on TARGET data</li>\n",
    "                <li>Correlation Matrix</li>\n",
    "                <li>Numerical segmented Univariate Analysis</li>\n",
    "                <li>Numerical Bi/Multivariate analysis</li>\n",
    "            </ul> \n",
    "        </ul>\n",
    "    </span>    \n",
    "</div>"
   ]
  },
  {
   "cell_type": "markdown",
   "id": "e0dd3f1c",
   "metadata": {},
   "source": [
    "<a id=\"imbalance\"></a>\n",
    "<h3>   \n",
    "      <font color = purple >\n",
    "            <span style='font-family:Georgia'>\n",
    "            5.1 Imbalance Analysis\n",
    "            </span>   \n",
    "        </font>    \n",
    "</h3>"
   ]
  },
  {
   "cell_type": "code",
   "execution_count": null,
   "id": "21e3b1d2",
   "metadata": {},
   "outputs": [],
   "source": [
    "imbalance = loan_df['loan_status'].value_counts().reset_index()"
   ]
  },
  {
   "cell_type": "code",
   "execution_count": null,
   "id": "00f8b666",
   "metadata": {},
   "outputs": [],
   "source": [
    "loan_df.loan_status.unique()"
   ]
  },
  {
   "cell_type": "code",
   "execution_count": null,
   "id": "42f8018b",
   "metadata": {
    "scrolled": false
   },
   "outputs": [],
   "source": [
    "plt.figure(figsize=(10,4))\n",
    "x= ['Fully Paid','Charged Off']\n",
    "sns.barplot(x,\"loan_status\",data = imbalance,palette= ['g','r'])\n",
    "plt.xlabel(\"Loan Repayment Status\")\n",
    "plt.ylabel(\"Count of Repayers & Defaulters\")\n",
    "plt.title(\"Imbalance Plotting\")\n",
    "plt.show()"
   ]
  },
  {
   "cell_type": "markdown",
   "id": "dfe69534",
   "metadata": {},
   "source": [
    "<div class=\"alert alert-block alert-info\">\n",
    "    <span style='font-family:Georgia'>\n",
    "        <b>Insight: </b><br>The following plot shows that around 14% loans were charged off out of the total loans issued\n",
    "    </span>    \n",
    "</div>"
   ]
  },
  {
   "cell_type": "code",
   "execution_count": null,
   "id": "af9fd506",
   "metadata": {},
   "outputs": [],
   "source": [
    "count_0 = imbalance.iloc[0][\"loan_status\"]\n",
    "count_1 = imbalance.iloc[1][\"loan_status\"]\n",
    "count_0_perc = round(count_0/(count_0+count_1)*100,2)\n",
    "count_1_perc = round(count_1/(count_0+count_1)*100,2)\n",
    "print('Ratios of imbalance in percentage with respect to Fully-Paid and Charged-Off datas are: %.2f and %.2f'%(count_0_perc,count_1_perc))\n",
    "print('Ratios of imbalance in relative with respect to Fully-Paid and Charged-Off datas is %.2f : 1 (approx)'%(count_0/count_1))"
   ]
  },
  {
   "cell_type": "markdown",
   "id": "21b9b496",
   "metadata": {},
   "source": [
    "<a id=\"bins\"></a>\n",
    "<h3>   \n",
    "      <font color = purple >\n",
    "            <span style='font-family:Georgia'>\n",
    "            5.2 Creating Bins\n",
    "            </span>   \n",
    "        </font>    \n",
    "</h3>"
   ]
  },
  {
   "cell_type": "code",
   "execution_count": null,
   "id": "0addb08a",
   "metadata": {},
   "outputs": [],
   "source": [
    "#Creating Bins for further analysis\n",
    "#Creating categories for loan amounts for further analysis\n",
    "loan_df['loan_amnt_categories']=pd.cut(loan_df['loan_amnt'],[0,7000,14000,21000,28000,35000],labels=['0-7000','7000-14000','14000-21000','21000-28000','28000+'])\n",
    "\n",
    "#Creating categories for annual incomes for further analysis\n",
    "loan_df['annual_inc_categories']=pd.cut(loan_df['annual_inc'],[0,20000,40000,60000,80000,1000000],labels=['0-20000','20000-40000','40000-60000','60000-80000','80000+'])\n",
    "\n",
    "#Creating categories for interest rates for further analysis\n",
    "loan_df['interest_rate_categories']=pd.cut(loan_df['int_rate'],[0,10,12.5,16,20],labels=['0-10','10-13','12.5-16','16+'])\n",
    "\n",
    "#Creating dti into buckets for further analysis\n",
    "loan_df['dti_categories']=pd.cut(loan_df['dti'],[0,5,10,15,20,25],labels=['0-5','5-10','10-15','15-20','25+'])"
   ]
  },
  {
   "cell_type": "code",
   "execution_count": null,
   "id": "62f89805",
   "metadata": {},
   "outputs": [],
   "source": [
    "#Converting Categorical columns from Object to categorical \n",
    "Catgorical_col_p = ['term','grade','sub_grade',\n",
    "                    'home_ownership','verification_status','loan_status','purpose',\n",
    "                   'addr_state','annual_inc_categories','loan_amnt_categories','interest_rate_categories','dti_categories']\n",
    "\n",
    "for col in Catgorical_col_p:\n",
    "    loan_df[col] =pd.Categorical(loan_df[col])"
   ]
  },
  {
   "cell_type": "code",
   "execution_count": null,
   "id": "5a02c50d",
   "metadata": {},
   "outputs": [],
   "source": [
    "loan_df.info()"
   ]
  },
  {
   "cell_type": "markdown",
   "id": "2c42c2ee",
   "metadata": {},
   "source": [
    "<a id=\"pltfunc\"></a>\n",
    "<h3>   \n",
    "      <font color = purple >\n",
    "            <span style='font-family:Georgia'>\n",
    "            5.3 Plotting Functions\n",
    "            </span>   \n",
    "        </font>    \n",
    "</h3>"
   ]
  },
  {
   "cell_type": "markdown",
   "id": "ab230fd2",
   "metadata": {},
   "source": [
    "Following are the common functions customized to perform uniform anaysis that is called for all plots:"
   ]
  },
  {
   "cell_type": "markdown",
   "id": "1dd9230d",
   "metadata": {},
   "source": [
    "#### univariate_categorical"
   ]
  },
  {
   "cell_type": "markdown",
   "id": "09257fd2",
   "metadata": {},
   "source": [
    "This Python function is designed for conducting univariate categorical analysis on a loan dataset. It facilitates the creation of two subplots within a single figure:\n",
    "\n",
    "1. The first subplot displays a count plot of a specified categorical column in relation to the 'loan_status,' providing insights into the distribution of loan statuses within the chosen category.\n",
    "2. The second subplot visualizes the percentage of defaulters within the same categorical column, offering a clear perspective on the proportion of borrowers who have defaulted.\n",
    "\n",
    "This function is a valuable tool for exploring the impact of categorical variables on loan statuses and identifying potential patterns or trends."
   ]
  },
  {
   "cell_type": "code",
   "execution_count": null,
   "id": "0de82dee",
   "metadata": {},
   "outputs": [],
   "source": [
    "def univariate_categorical(feature,ylog=False,label_rotation=False,horizontal_layout=True):\n",
    "    # Calculate the percentage of loan_status (charged off) per category value\n",
    "    cat_perc = loan_df.groupby([feature, 'loan_status']).loan_status.count().unstack().fillna(0).reset_index()\n",
    "    cat_perc['Total'] = cat_perc['Charged Off'] + cat_perc['Fully Paid']\n",
    "    cat_perc['ChargedOff_Proportion']=cat_perc['Charged Off']/cat_perc['Total']*100\n",
    "    cat_perc.sort_values(by='ChargedOff_Proportion', ascending=False, inplace=True)\n",
    "    \n",
    "    if(horizontal_layout):\n",
    "        fig, (ax1, ax2) = plt.subplots(ncols=2, figsize=(12,6))\n",
    "    else:\n",
    "        fig, (ax1, ax2) = plt.subplots(nrows=2, figsize=(20,24))\n",
    "        \n",
    "    # 1. Subplot 1: Count plot of categorical column\n",
    "    s = sns.countplot(ax=ax1, \n",
    "                    x = feature, \n",
    "                    data=loan_df,\n",
    "                    hue =\"loan_status\",\n",
    "                    order=cat_perc[feature],\n",
    "                    palette='crest')\n",
    "    \n",
    "    # Define common styling\n",
    "    ax1.set_title(feature, fontdict={'fontsize' : 10, 'fontweight' : 3, 'color' : 'Blue'}) \n",
    "    ax1.legend(['Repayer','Defaulter'])\n",
    "    \n",
    "    # If the plot is not readable, use the log scale.\n",
    "    if ylog:\n",
    "        ax1.set_yscale('log')\n",
    "        ax1.set_ylabel(\"Count (log)\",fontdict={'fontsize' : 10, 'fontweight' : 3, 'color' : 'Blue'})   \n",
    "    \n",
    "    \n",
    "    if(label_rotation):\n",
    "        s.set_xticklabels(s.get_xticklabels(),rotation=90)\n",
    "    \n",
    "    # 2. Subplot 2: Percentage of defaulters within the categorical column\n",
    "    s = sns.barplot(ax=ax2, \n",
    "                    x = feature, \n",
    "                    y='ChargedOff_Proportion', \n",
    "                    order=cat_perc[feature], \n",
    "                    data=cat_perc,\n",
    "                    palette='Set2')\n",
    "    \n",
    "    if(label_rotation):\n",
    "        s.set_xticklabels(s.get_xticklabels(),rotation=90)\n",
    "    plt.ylabel('Percent of Defaulters [%]', fontsize=10)\n",
    "    plt.tick_params(axis='both', which='major', labelsize=10)\n",
    "    ax2.set_title(feature + \" Defaulter %\", fontdict={'fontsize' : 15, 'fontweight' : 5, 'color' : 'Blue'}) \n",
    "\n",
    "    plt.show();"
   ]
  },
  {
   "cell_type": "markdown",
   "id": "138bcb8e",
   "metadata": {},
   "source": [
    "#### fequency_and_box_plot"
   ]
  },
  {
   "cell_type": "markdown",
   "id": "2949b681",
   "metadata": {},
   "source": [
    "The function, fequency_and_box_plot, is designed to generate two side-by-side subplots within a figure using Matplotlib and Seaborn libraries. This function is intended to display a frequency plot (distribution plot) and a box plot for a specified feature in the dataset.\n",
    "\n",
    "**Subplot 1 (Position 1):** A frequency plot (Seaborn's distplot()) is created using the data in the specified 'feature' column. This plot displays the distribution of the data along with 'rugs' indicating individual data points. The title, x-axis label, and y-axis label are set for this plot.\n",
    "\n",
    "**Subplot 2 (Position 2):** A box plot (Seaborn's boxplot()) is created for the same 'feature' column. This plot displays the statistical summary of the data, showing the median, quartiles, and outliers. It also has a title and a y-axis label."
   ]
  },
  {
   "cell_type": "code",
   "execution_count": null,
   "id": "4d647393",
   "metadata": {},
   "outputs": [],
   "source": [
    "def fequency_and_box_plot(data, feature, figsize):\n",
    "    plt.figure(figsize=figsize)\n",
    "    plt.subplot(2, 2, 1)\n",
    "    dist_plot = sns.distplot(data[feature], rug=True)\n",
    "    dist_plot.set(title='Frequency Plot ' + feature)\n",
    "    dist_plot.set_xlabel(feature)\n",
    "    dist_plot.set_ylabel('frequency')\n",
    "    \n",
    "    plt.subplot(2, 2, 2)\n",
    "    dist_plot = sns.boxplot(y=data[feature])\n",
    "    dist_plot.set(title='Box plot for ' + feature)\n",
    "    dist_plot.set_ylabel(feature)\n",
    "\n",
    "    plt.show()"
   ]
  },
  {
   "cell_type": "markdown",
   "id": "6665362c",
   "metadata": {},
   "source": [
    "#### bivariate_violin"
   ]
  },
  {
   "cell_type": "markdown",
   "id": "666cb599",
   "metadata": {},
   "source": [
    "The function, bivariate_box, is designed to create a bivariate box plot using Seaborn and Matplotlib libraries. This function aims to display the distribution of a numerical variable (y-axis) across different categories of a categorical variable (x-axis)."
   ]
  },
  {
   "cell_type": "code",
   "execution_count": null,
   "id": "9f15a9be",
   "metadata": {},
   "outputs": [],
   "source": [
    "# function for plotting repetitive countplots in bivariate categorical analysis\n",
    "\n",
    "def bivariate_box(x,y,df,figsize, title):\n",
    "    \n",
    "    plt.figure(figsize=figsize)\n",
    "    ax = sns.boxplot(x=x,\n",
    "                  y=y,\n",
    "                  data=df, \n",
    "                  palette = 'crest')     \n",
    "        \n",
    "    # Defining aesthetics of Labels and Title of the plot using style dictionaries\n",
    "    ax.set_ylabel(y, fontsize=14, color='blue') \n",
    "    ax.set_xlabel(x, fontsize=14, color='blue') \n",
    "    ax.set_title(title, fontsize=15, color='blue') \n",
    "    plt.show()"
   ]
  },
  {
   "cell_type": "markdown",
   "id": "5b2539d3",
   "metadata": {},
   "source": [
    "#### bivariate_violin"
   ]
  },
  {
   "cell_type": "markdown",
   "id": "803377a2",
   "metadata": {},
   "source": [
    "The function, bivariate_violin, is designed to create a bivariate violin plot using Seaborn and Matplotlib libraries. This function displays the distribution of a numerical variable (y-axis) across different categories of a categorical variable (x-axis)."
   ]
  },
  {
   "cell_type": "code",
   "execution_count": null,
   "id": "50b0bcfe",
   "metadata": {},
   "outputs": [],
   "source": [
    "def bivariate_violin(x, y, df, figsize, title):\n",
    "    plt.figure(figsize=figsize)\n",
    "\n",
    "    # Create a bivariate violin plot\n",
    "    ax = sns.violinplot(x=x, y=y, data=df, palette='rainbow')\n",
    "\n",
    "    # Define aesthetics (labels and title) of the plot\n",
    "    ax.set_ylabel(y, fontsize=14, color='blue')  # Set the y-axis label\n",
    "    ax.set_xlabel(x, fontsize=14, color='blue')  # Set the x-axis label\n",
    "    ax.set_title(title, fontsize=15, color='blue')  # Set the title of the plot\n",
    "\n",
    "    plt.show()  # Display the plot"
   ]
  },
  {
   "cell_type": "markdown",
   "id": "e798942a",
   "metadata": {},
   "source": [
    "<a id=\"catvar\"></a>\n",
    "<h3>   \n",
    "      <font color = purple >\n",
    "            <span style='font-family:Georgia'>\n",
    "            5.4 Categorical and Segmented Variable Analysis\n",
    "            </span>   \n",
    "        </font>    \n",
    "</h3>"
   ]
  },
  {
   "cell_type": "code",
   "execution_count": null,
   "id": "78945ef0",
   "metadata": {},
   "outputs": [],
   "source": [
    "univariate_categorical('term', True)"
   ]
  },
  {
   "cell_type": "markdown",
   "id": "7a54221f",
   "metadata": {},
   "source": [
    "<div class=\"alert alert-block alert-info\">\n",
    "    <span style='font-family:Georgia'>\n",
    "        <b>Insight: </b><br>\n",
    "        Term: Loans with 60 months tenure are just a small fraction from the total number of loans; in the same time, a larger amount of 60 months tenure loans, comparing with their frequency, are not repaid.\n",
    "    </span>    \n",
    "</div>"
   ]
  },
  {
   "cell_type": "code",
   "execution_count": null,
   "id": "6092e153",
   "metadata": {},
   "outputs": [],
   "source": [
    "univariate_categorical('grade')"
   ]
  },
  {
   "cell_type": "markdown",
   "id": "732da5e8",
   "metadata": {},
   "source": [
    "<div class=\"alert alert-block alert-info\">\n",
    "    <span style='font-family:Georgia'>\n",
    "        <b>Insight: </b><br>\n",
    "        Grade: Loans with graders: A and B are in large fraction from the total number of loans.Based on the percentage of defaulted credits, grade G, F, and E have a higher chance of not returning their loans, comparing with other grades\n",
    "    </span>    \n",
    "</div>"
   ]
  },
  {
   "cell_type": "code",
   "execution_count": null,
   "id": "049db6e2",
   "metadata": {},
   "outputs": [],
   "source": [
    "univariate_categorical('sub_grade', True, True, False)"
   ]
  },
  {
   "cell_type": "markdown",
   "id": "2679aad0",
   "metadata": {},
   "source": [
    "<div class=\"alert alert-block alert-info\">\n",
    "    <span style='font-family:Georgia'>\n",
    "        <b>Insight: </b><br>\n",
    "        Sub Grade: Loans with sub grades: F5,G3, G5, G2, G1 has less change to get repaid.\n",
    "    </span>    \n",
    "</div>"
   ]
  },
  {
   "cell_type": "code",
   "execution_count": null,
   "id": "aec7dc3d",
   "metadata": {},
   "outputs": [],
   "source": [
    "univariate_categorical('home_ownership', True)"
   ]
  },
  {
   "cell_type": "markdown",
   "id": "41cec09b",
   "metadata": {},
   "source": [
    "<div class=\"alert alert-block alert-info\">\n",
    "    <span style='font-family:Georgia'>\n",
    "        <b>Insight: </b><br>\n",
    "        Home Ownership: Applicants whose home are Rented, Owned, and Mortgage comprises of most of the loan applications. But, the most of the number of defaulters belong to the category \"Other\", but there is no significant difference between the defaulters.\n",
    "    </span>    \n",
    "</div>"
   ]
  },
  {
   "cell_type": "code",
   "execution_count": null,
   "id": "10d8a0f5",
   "metadata": {},
   "outputs": [],
   "source": [
    "univariate_categorical('verification_status', True)"
   ]
  },
  {
   "cell_type": "markdown",
   "id": "9d717193",
   "metadata": {},
   "source": [
    "<div class=\"alert alert-block alert-info\">\n",
    "    <span style='font-family:Georgia'>\n",
    "        <b>Insight: </b><br>\n",
    "        Verification Status: Most number of loan applied falls under the category \"not verified\". The applicants whose income has been verified is more likely to default. But there is not a sifnificant difference between Verified and Source verified. Also, Not verified applicants is more likely to repay the loan\n",
    "    </span>    \n",
    "</div>"
   ]
  },
  {
   "cell_type": "code",
   "execution_count": null,
   "id": "1a345ea1",
   "metadata": {},
   "outputs": [],
   "source": [
    "univariate_categorical('purpose', True, True, True)"
   ]
  },
  {
   "cell_type": "markdown",
   "id": "8787abbb",
   "metadata": {},
   "source": [
    "<div class=\"alert alert-block alert-info\">\n",
    "    <span style='font-family:Georgia'>\n",
    "        <b>Insight: </b><br>\n",
    "        Purpose: The top 5 purposes for which the loan has been applied are debt_consolidation, small business, credit card, home improvement, and major purchases. But, small business owneres are more likely to default followed by renewable_energy and educational.\n",
    "    </span>    \n",
    "</div>"
   ]
  },
  {
   "cell_type": "code",
   "execution_count": null,
   "id": "3ab2cae2",
   "metadata": {
    "scrolled": false
   },
   "outputs": [],
   "source": [
    "univariate_categorical('loan_amnt_categories', True, True)"
   ]
  },
  {
   "cell_type": "markdown",
   "id": "16c59c2f",
   "metadata": {},
   "source": [
    "<div class=\"alert alert-block alert-info\">\n",
    "    <span style='font-family:Georgia'>\n",
    "        <b>Insight: </b><br>\n",
    "        Loan Amount: Most of the applicants has applied the loan ranging from 0 to 21k. Applicants who has applied for loan amount more than 28k is more likely to default with ~27% probability.\n",
    "    </span>    \n",
    "</div>"
   ]
  },
  {
   "cell_type": "code",
   "execution_count": null,
   "id": "0de8e8b2",
   "metadata": {},
   "outputs": [],
   "source": [
    "univariate_categorical('annual_inc_categories', True, True)"
   ]
  },
  {
   "cell_type": "markdown",
   "id": "5b4919f6",
   "metadata": {},
   "source": [
    "<div class=\"alert alert-block alert-info\">\n",
    "    <span style='font-family:Georgia'>\n",
    "        <b>Insight: </b><br>\n",
    "        Annual Income: Most of the applicants whose annual income is more than 20k has applied for the loan. And the probability of getting default is more for the applicants whose annual income ranges in between 0 to 40k.\n",
    "    </span>    \n",
    "</div>"
   ]
  },
  {
   "cell_type": "code",
   "execution_count": null,
   "id": "9db8ab5e",
   "metadata": {},
   "outputs": [],
   "source": [
    "univariate_categorical('interest_rate_categories', True)"
   ]
  },
  {
   "cell_type": "markdown",
   "id": "d9049b67",
   "metadata": {},
   "source": [
    "<div class=\"alert alert-block alert-info\">\n",
    "    <span style='font-family:Georgia'>\n",
    "        <b>Insight: </b><br>\n",
    "        Interest Rate: Most number of loan has been given with interest rate less than 16%. But, the most number of defaulters are ones whose loan's interest rate more than 16%.\n",
    "    </span>    \n",
    "</div>"
   ]
  },
  {
   "cell_type": "code",
   "execution_count": null,
   "id": "9ab2ff53",
   "metadata": {},
   "outputs": [],
   "source": [
    "univariate_categorical('dti_categories', True)"
   ]
  },
  {
   "cell_type": "markdown",
   "id": "79a5330a",
   "metadata": {},
   "source": [
    "<div class=\"alert alert-block alert-info\">\n",
    "    <span style='font-family:Georgia'>\n",
    "        <b>Insight: </b><br>\n",
    "        DTI: Most number of loan has been given with DTI ranging from 5 to 20 But, the most number of defaulters are ones whose DTI is more than 25.\n",
    "    </span>    \n",
    "</div>"
   ]
  },
  {
   "cell_type": "markdown",
   "id": "5c2efb35",
   "metadata": {},
   "source": [
    "<a id=\"numvar\"></a>\n",
    "<h3>   \n",
    "      <font color = purple >\n",
    "            <span style='font-family:Georgia'>\n",
    "            5.5 Numerical Variable Analysis\n",
    "            </span>   \n",
    "        </font>    \n",
    "</h3>"
   ]
  },
  {
   "cell_type": "code",
   "execution_count": null,
   "id": "da4b4256",
   "metadata": {
    "scrolled": true
   },
   "outputs": [],
   "source": [
    "# The provided code snippet iterates through the columns of a DataFrame (loan_df) and selects only those columns\n",
    "# that have a data type of either 'int64' or 'float64'. For each column that meets this criterion, it calls\n",
    "# the function fequency_and_box_plot to generate frequency and box plots for the numerical columns.\n",
    "for col_name, col_data in loan_df.iteritems():\n",
    "    col_dtype = col_data.dtype\n",
    "    if col_dtype == 'int64' or col_dtype == 'float64':\n",
    "        fequency_and_box_plot(loan_df, col_name, (18, 10))"
   ]
  },
  {
   "cell_type": "markdown",
   "id": "453cae37",
   "metadata": {},
   "source": [
    "<div class=\"alert alert-block alert-info\">\n",
    "    <span style='font-family:Georgia'>\n",
    "        <b>Insight: </b><br>\n",
    "        1. Distribution of amounts for loan amount, funded amount, and funded by investor looks very much similar.<br>\n",
    "        2. Most of the loan amounts are in the range 5k to 15k<br>\n",
    "        3. Most of the interest rates are in the range 10%-15%<br>\n",
    "        4. Most of the Annual Income are in the range 25000-75000<br>\n",
    "        5. Most of the installments are in the range 100 to 400<br>\n",
    "        6. Most of the applicants' annual income are in the range 40k to 60k<br>\n",
    "        7. Most of the DTI ranges from 10% to 20%\n",
    "    </span>    \n",
    "</div>"
   ]
  },
  {
   "cell_type": "markdown",
   "id": "d0117797",
   "metadata": {},
   "source": [
    "<a id=\"null\"></a>\n",
    "<h3>   \n",
    "      <font color = purple >\n",
    "            <span style='font-family:Georgia'>\n",
    "            5.6 Correlation Matrix\n",
    "            </span>   \n",
    "        </font>    \n",
    "</h3>"
   ]
  },
  {
   "cell_type": "markdown",
   "id": "c537d521",
   "metadata": {},
   "source": [
    "#### Correlation Analysis-Bivariate Matrix"
   ]
  },
  {
   "cell_type": "code",
   "execution_count": null,
   "id": "4d811b3e",
   "metadata": {},
   "outputs": [],
   "source": [
    "loan_correlation=loan_df.corr()"
   ]
  },
  {
   "cell_type": "code",
   "execution_count": null,
   "id": "cc980b5b",
   "metadata": {},
   "outputs": [],
   "source": [
    "loan_correlation"
   ]
  },
  {
   "cell_type": "markdown",
   "id": "3aad353b",
   "metadata": {},
   "source": [
    "#### Heatmap to show correlation amongst various variables"
   ]
  },
  {
   "cell_type": "code",
   "execution_count": null,
   "id": "3f15b308",
   "metadata": {},
   "outputs": [],
   "source": [
    "sns.set(font_scale=1.1)\n",
    "sns.clustermap(loan_correlation,annot=True,figsize=(25,19))\n",
    "plt.show()"
   ]
  },
  {
   "cell_type": "markdown",
   "id": "80389cd9",
   "metadata": {},
   "source": [
    "<div class=\"alert alert-block alert-info\">\n",
    "    <span style='font-family:Georgia'>\n",
    "        <b>Insight: </b><br>\n",
    "        1. Annual Income to Debt To Income Ratio i.e. dti are negatively correlated<br>\n",
    "        2. Loan Amount,Investor Amount and Funding Amount are strongly correlated<br>\n",
    "        3. Positive correlation between Annual Income and employment years<br>\n",
    "        4. Positive correlation between annual income and funded amount that means people with high income gets high funded amount<br>\n",
    "        5. Positive correlation between annual income and total payment<br>\n",
    "    </span>    \n",
    "</div>"
   ]
  },
  {
   "cell_type": "markdown",
   "id": "e247e501",
   "metadata": {},
   "source": [
    "<a id=\"null\"></a>\n",
    "<h3>   \n",
    "      <font color = purple >\n",
    "            <span style='font-family:Georgia'>\n",
    "            5.7 Bivariate Analysis\n",
    "            </span>   \n",
    "        </font>    \n",
    "</h3>"
   ]
  },
  {
   "cell_type": "markdown",
   "id": "33f07bc3",
   "metadata": {},
   "source": [
    "In this section, we will conduct an analysis of the loan status concerning crucial columns that are likely to influence charged-off loans."
   ]
  },
  {
   "cell_type": "markdown",
   "id": "e057f703",
   "metadata": {},
   "source": [
    "##### Purpose of Loan Vs Loan amount"
   ]
  },
  {
   "cell_type": "code",
   "execution_count": null,
   "id": "69389d43",
   "metadata": {
    "scrolled": false
   },
   "outputs": [],
   "source": [
    "bivariate_box('loan_amnt','purpose',loan_df,(10,8), 'Purpose vs Loan Amount')"
   ]
  },
  {
   "cell_type": "markdown",
   "id": "f16624ec",
   "metadata": {},
   "source": [
    "<div class=\"alert alert-block alert-info\">\n",
    "    <span style='font-family:Georgia'>\n",
    "        <b>Insight: </b><br>\n",
    "        1. Median,95th percentile,75th percentile of loan amount is highest for loan taken for small business purpose among all purposes.<br>\n",
    "        2. Debt consolidation is second and Credit card comes 3rd.<br>\n",
    "    </span>    \n",
    "</div>"
   ]
  },
  {
   "cell_type": "code",
   "execution_count": null,
   "id": "4ac14f26",
   "metadata": {},
   "outputs": [],
   "source": [
    "bivariate_violin('loan_amnt','purpose',loan_df,(10,8), 'Purpose vs Loan Amount')"
   ]
  },
  {
   "cell_type": "markdown",
   "id": "04b5bd63",
   "metadata": {},
   "source": [
    "<div class=\"alert alert-block alert-info\">\n",
    "    <span style='font-family:Georgia'>\n",
    "        <b>Insight: </b><br>\n",
    "        Loans intended for small business purposes, debt consolidation, and credit card utilization exhibit a relatively even distribution when compared to loans acquired for other purposes.\n",
    "    </span>    \n",
    "</div>"
   ]
  },
  {
   "cell_type": "markdown",
   "id": "63b5420d",
   "metadata": {},
   "source": [
    "#### Term vs Interest Rate"
   ]
  },
  {
   "cell_type": "code",
   "execution_count": null,
   "id": "93e5b7d3",
   "metadata": {},
   "outputs": [],
   "source": [
    "bivariate_box('term','int_rate',loan_df,(10,8), 'Term vs Interest Rate')"
   ]
  },
  {
   "cell_type": "markdown",
   "id": "a730e652",
   "metadata": {},
   "source": [
    "<div class=\"alert alert-block alert-info\">\n",
    "    <span style='font-family:Georgia'>\n",
    "        <b>Insight: </b><br>\n",
    "        1. It is clear that avearge intrest rate is higher for 60 months loan term.<br>\n",
    "        2. Most of the loans issued for longer term had higher intrest rates for repayement.<br>\n",
    "    </span>    \n",
    "</div>"
   ]
  },
  {
   "cell_type": "markdown",
   "id": "811ed657",
   "metadata": {},
   "source": [
    "#### Intereset Rate vs Purpose"
   ]
  },
  {
   "cell_type": "code",
   "execution_count": null,
   "id": "3495d5e4",
   "metadata": {},
   "outputs": [],
   "source": [
    "bivariate_box('int_rate', 'purpose',loan_df,(10,8), 'Purpose vs Interest Rate')"
   ]
  },
  {
   "cell_type": "markdown",
   "id": "749ec629",
   "metadata": {},
   "source": [
    "<div class=\"alert alert-block alert-info\">\n",
    "    <span style='font-family:Georgia'>\n",
    "        <b>Insight: </b><br>\n",
    "        1. Evidently, the average interest rate is notably higher for loans taken for small business purposes compared to other loan purposes.<br>\n",
    "        2. Small business loans necessitated a higher interest rate for repayment compared to other loan purposes.<br>\n",
    "        3. Debt consolidation stands as the second-highest category where borrowers encountered relatively higher interest rates in their loan repayment.\n",
    "    </span>    \n",
    "</div>"
   ]
  },
  {
   "cell_type": "markdown",
   "id": "b73f2b3d",
   "metadata": {},
   "source": [
    "#### Grade vs Interest Rate"
   ]
  },
  {
   "cell_type": "code",
   "execution_count": null,
   "id": "15cd205e",
   "metadata": {},
   "outputs": [],
   "source": [
    "bivariate_box('grade', 'int_rate',loan_df,(10,8), 'Grade vs Interest Rate')"
   ]
  },
  {
   "cell_type": "markdown",
   "id": "cf0b9fb7",
   "metadata": {},
   "source": [
    "<div class=\"alert alert-block alert-info\">\n",
    "    <span style='font-family:Georgia'>\n",
    "        <b>Insight: </b><br>\n",
    "        1. The 'A' grade represents the highest letter grade that a lender assigns to a borrower, typically denoting a strong creditworthiness or low risk for the lender.<br>\n",
    "        2. There exists an inverse relationship between a borrower's credit grade and the interest rate offered on a loan; typically, a higher credit grade corresponds to a lower interest rate for the borrower.<br>\n",
    "        3. The data demonstrates a clear upward trend in interest rates as the loan grade progresses from 'A' to 'F'.\n",
    "    </span>    \n",
    "</div>"
   ]
  },
  {
   "cell_type": "markdown",
   "id": "f94882fe",
   "metadata": {},
   "source": [
    "#### Loan Amount vs Interest Rate"
   ]
  },
  {
   "cell_type": "code",
   "execution_count": null,
   "id": "1c0d8761",
   "metadata": {},
   "outputs": [],
   "source": [
    "bivariate_box('loan_amnt_categories', 'int_rate',loan_df,(10,8), 'Loan Amount vs Interest Rate')"
   ]
  },
  {
   "cell_type": "markdown",
   "id": "7801598f",
   "metadata": {},
   "source": [
    "<div class=\"alert alert-block alert-info\">\n",
    "    <span style='font-family:Georgia'>\n",
    "        <b>Insight: </b><br>\n",
    "        1. Interest rate increases with the increase in the loan amount<br>\n",
    "    </span>    \n",
    "</div>"
   ]
  },
  {
   "cell_type": "markdown",
   "id": "36efeeae",
   "metadata": {},
   "source": [
    "#### DTI vs Interest Rate"
   ]
  },
  {
   "cell_type": "code",
   "execution_count": null,
   "id": "feae7476",
   "metadata": {},
   "outputs": [],
   "source": [
    "bivariate_box('dti_categories', 'int_rate',loan_df,(10,8), 'DTI vs Interest Rate')"
   ]
  },
  {
   "cell_type": "markdown",
   "id": "22c4d044",
   "metadata": {},
   "source": [
    "<div class=\"alert alert-block alert-info\">\n",
    "    <span style='font-family:Georgia'>\n",
    "        <b>Insight: </b><br>\n",
    "        1. We get lower interest rate when the DTI value is low<br>\n",
    "        2. These does not seem to be significant difference in the loan amount, but we can see that there is a slight increase in the interest rate when the DTI increase\n",
    "    </span>    \n",
    "</div>"
   ]
  },
  {
   "cell_type": "markdown",
   "id": "197563e5",
   "metadata": {},
   "source": [
    "<a id=\"multivar\"></a>\n",
    "<h3>   \n",
    "      <font color = purple >\n",
    "            <span style='font-family:Georgia'>\n",
    "            5.8 Multivariate Analysis\n",
    "            </span>   \n",
    "        </font>    \n",
    "</h3>"
   ]
  },
  {
   "cell_type": "markdown",
   "id": "c1740aa4",
   "metadata": {},
   "source": [
    "A pair plot was generated, color-coded by loan status, showcasing density plots along the diagonal and formatted scatter plots to visualize the relationships between different variables in the dataset."
   ]
  },
  {
   "cell_type": "code",
   "execution_count": null,
   "id": "4598c320",
   "metadata": {},
   "outputs": [],
   "source": [
    "sns.pairplot(loan_multivariate_dataframe, hue = 'loan_status', diag_kind = 'kde', palette = \"deep\",\n",
    "             plot_kws = {'alpha': 0.6, 's': 80, 'edgecolor': 'k'},\n",
    "             size = 4)\n",
    "plt.show()"
   ]
  },
  {
   "cell_type": "markdown",
   "id": "d676c8de",
   "metadata": {},
   "source": [
    "<div class=\"alert alert-block alert-info\">\n",
    "    <span style='font-family:Georgia'>\n",
    "        <b>Insight: </b><br>\n",
    "        The charged-off ratio tends to be higher for loans with increased interest rates. Additionally, there's a slight correlation between higher loan amounts and higher annual income. Yearly trends indicate a rising count of charged-off loans. Moreover, an increase in loan amount corresponds to higher interest rates within the dataset.<br>\n",
    "    </span>    \n",
    "</div>"
   ]
  },
  {
   "cell_type": "markdown",
   "id": "144bee41",
   "metadata": {},
   "source": [
    "#### Let's check for the year 2007"
   ]
  },
  {
   "cell_type": "code",
   "execution_count": null,
   "id": "bb53bebe",
   "metadata": {
    "scrolled": false
   },
   "outputs": [],
   "source": [
    "sns.pairplot(loan_multivariate_dataframe[loan_multivariate_dataframe['issue_year'] == \"2007\"], \n",
    "             vars = ['loan_amnt', 'annual_inc', 'int_rate'], \n",
    "             hue = 'loan_status', \n",
    "             palette = \"deep\",\n",
    "             diag_kind = 'kde', \n",
    "             plot_kws = {'alpha': 0.6, 's': 80, 'edgecolor': 'k'}, \n",
    "             size = 4);"
   ]
  },
  {
   "cell_type": "markdown",
   "id": "9dd9e0b7",
   "metadata": {},
   "source": [
    "<a id=\"conclusion\"></a>\n",
    "<h2>   \n",
    "      <font color = blue >\n",
    "            <span style='font-family:Georgia'>\n",
    "            6. Consclusion\n",
    "            </span>   \n",
    "        </font>    \n",
    "</h2>"
   ]
  },
  {
   "cell_type": "code",
   "execution_count": null,
   "id": "c6ff4264",
   "metadata": {},
   "outputs": [],
   "source": []
  }
 ],
 "metadata": {
  "kernelspec": {
   "display_name": "Python 3 (ipykernel)",
   "language": "python",
   "name": "python3"
  },
  "language_info": {
   "codemirror_mode": {
    "name": "ipython",
    "version": 3
   },
   "file_extension": ".py",
   "mimetype": "text/x-python",
   "name": "python",
   "nbconvert_exporter": "python",
   "pygments_lexer": "ipython3",
   "version": "3.9.7"
  }
 },
 "nbformat": 4,
 "nbformat_minor": 5
}
