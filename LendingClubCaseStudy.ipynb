{
 "cells": [
  {
   "cell_type": "markdown",
   "id": "d3da42f6",
   "metadata": {},
   "source": [
    "<h1 style=\"color: #0284c7\">Lending Club Case Study</h1>"
   ]
  },
  {
   "cell_type": "markdown",
   "id": "fdce393e",
   "metadata": {},
   "source": [
    "<div style=\"color: #64748b\">\n",
    "<span>Import the essential Python libraries and packages necessary for conducting comprehensive exploratory data analysis (EDA).</span>\n",
    "\n",
    "<span style=\"font-weight: bold\">Pandas</span>\n",
    "<span>An open-source data manipulation library, providing data analysis tools for tasks like cleaning, exploring, and transforming datasets.</span>\n",
    "    \n",
    "<span style=\"font-weight: bold\">Numpy</span>\n",
    "<span>A library for numerical computing that provides support for large, multi-dimensional arrays and matrices, along with a vast collection of high-level mathematical functions to operate on arrays.</span>\n",
    "</div>"
   ]
  },
  {
   "cell_type": "code",
   "execution_count": 2,
   "id": "25af0fe2",
   "metadata": {},
   "outputs": [],
   "source": [
    "import pandas as pd\n",
    "import numpy as np\n",
    "import seaborn as sns"
   ]
  },
  {
   "cell_type": "code",
   "execution_count": 12,
   "id": "4f4e5cbe",
   "metadata": {},
   "outputs": [],
   "source": [
    "pd.options.display.max_columns = None\n",
    "pd.options.display.max_rows = None"
   ]
  },
  {
   "cell_type": "markdown",
   "id": "6bc4c93d",
   "metadata": {},
   "source": [
    "<h3 style=\"color:#15803d\">Utilities</h3>"
   ]
  },
  {
   "cell_type": "markdown",
   "id": "05148884",
   "metadata": {},
   "source": [
    "<h4 style=\"color: #e11d48\">write_to_file</h4>\n",
    "<span>The function write_to_file takes in two parameters: data and path. It is designed to write the contents of the data variable to a file located at the path specified.</span>\n"
   ]
  },
  {
   "cell_type": "code",
   "execution_count": 3,
   "id": "486dad75",
   "metadata": {},
   "outputs": [],
   "source": [
    "def write_to_file(data, path):\n",
    "    with open(path, 'w') as file:\n",
    "        file.write(data.to_string())"
   ]
  },
  {
   "cell_type": "markdown",
   "id": "dd6506eb",
   "metadata": {},
   "source": [
    "<h4 style=\"color: #e11d48\">transform_emp_duration</h4>\n",
    "<span>This function takes a string representing employment length and uses conditional statements to convert it into the appropriate numeric value. It handles specific cases for &lt; 1 year and 10+ years. For other cases, it splits the string and extracts the numeric part (years).</span>\n"
   ]
  },
  {
   "cell_type": "code",
   "execution_count": 4,
   "id": "8296b8d6",
   "metadata": {},
   "outputs": [],
   "source": [
    "def transform_emp_duration(duration):\n",
    "    if (pd.isnull(duration)):\n",
    "        return np.nan\n",
    "    duration = duration.strip()\n",
    "    if duration == '< 1 year':\n",
    "        return 0\n",
    "    if duration == '10+ years':\n",
    "        return 10\n",
    "    return int(duration.split()[0])"
   ]
  },
  {
   "cell_type": "markdown",
   "id": "3ffc2aac",
   "metadata": {},
   "source": [
    "<h3 style=\"color:#15803d\">Read Dataset</h3>"
   ]
  },
  {
   "cell_type": "markdown",
   "id": "2c75588d",
   "metadata": {},
   "source": [
    "<span style=\"color: #64748b\">\n",
    "We'll utilize the Pandas library to import and read the 'loan' dataset, stored in CSV format, enabling efficient data handling, manipulation, and analysis.</span>\n",
    "\n",
    "<span style=\"color:#d97706\">**NOTE:** </span><span style=\"color: #64748b\">To ensure seamless execution without errors, the dataset '*loan*' should reside within the same directory as this file.</span>\n",
    "</div>"
   ]
  },
  {
   "cell_type": "code",
   "execution_count": 5,
   "id": "40296122",
   "metadata": {},
   "outputs": [
    {
     "name": "stderr",
     "output_type": "stream",
     "text": [
      "/Users/kumar.k/opt/anaconda3/lib/python3.9/site-packages/IPython/core/interactiveshell.py:3444: DtypeWarning: Columns (47) have mixed types.Specify dtype option on import or set low_memory=False.\n",
      "  exec(code_obj, self.user_global_ns, self.user_ns)\n"
     ]
    }
   ],
   "source": [
    "# Name of the dataset, which will be read by pandas\n",
    "DATASET_NAME = 'loan.csv'\n",
    "loan_dataframe = pd.read_csv(DATASET_NAME)"
   ]
  },
  {
   "cell_type": "markdown",
   "id": "bd0243d1",
   "metadata": {},
   "source": [
    "<h3 style=\"color:#15803d\">Let's undertand the data</h3>"
   ]
  },
  {
   "cell_type": "markdown",
   "id": "872c0b38",
   "metadata": {},
   "source": [
    "<span style=\"color: #64748b\">To comprehensively understand the dataset, we sought to capture the count of rows, columns, and the respective data types associated with each column. As part of this process, the columns and their corresponding data types have been diligently recorded into a file. This file will serve as a foundational resource for generating a metadata document, facilitating a detailed comprehension of each column's characteristics and attributes.</span>\n",
    "\n",
    "<span style=\"color: #64748b\">A comprehensive metadata document has been meticulously generated utilizing this information and saved as 'metadata.xlsx' for future reference and utilization.</span>"
   ]
  },
  {
   "cell_type": "code",
   "execution_count": 6,
   "id": "78a8902b",
   "metadata": {},
   "outputs": [],
   "source": [
    "# File name to store the data types\n",
    "data_types_file_name = 'data_types.txt'\n",
    "\n",
    "# Write data types to a text file\n",
    "write_to_file(loan_dataframe.dtypes, data_types_file_name)"
   ]
  },
  {
   "cell_type": "markdown",
   "id": "da06230f",
   "metadata": {},
   "source": [
    "<span style=\"color: #64748b\">Let's check the number of nulls in each column</span>"
   ]
  },
  {
   "cell_type": "code",
   "execution_count": 7,
   "id": "6380750a",
   "metadata": {},
   "outputs": [
    {
     "data": {
      "text/plain": [
       "id                                0\n",
       "member_id                         0\n",
       "loan_amnt                         0\n",
       "funded_amnt                       0\n",
       "funded_amnt_inv                   0\n",
       "                              ...  \n",
       "tax_liens                        39\n",
       "tot_hi_cred_lim               39717\n",
       "total_bal_ex_mort             39717\n",
       "total_bc_limit                39717\n",
       "total_il_high_credit_limit    39717\n",
       "Length: 111, dtype: int64"
      ]
     },
     "execution_count": 7,
     "metadata": {},
     "output_type": "execute_result"
    }
   ],
   "source": [
    "loan_dataframe.isnull().sum()"
   ]
  },
  {
   "cell_type": "markdown",
   "id": "473a383e",
   "metadata": {},
   "source": [
    "<span style=\"color: #64748b\">Following the earlier command to count null values for each column, it was revealed that numerous columns are empty, while others contain missing data. To enhance the metadata with this crucial information, it's advisable to document these findings into a file for future updates and reference.</span>"
   ]
  },
  {
   "cell_type": "code",
   "execution_count": 8,
   "id": "e5502939",
   "metadata": {},
   "outputs": [],
   "source": [
    "# File name to store the count of null values in each column\n",
    "nulls_file_name = 'nulls.txt'\n",
    "\n",
    "# Write to a text file\n",
    "write_to_file(loan_dataframe.isnull().sum(), nulls_file_name)"
   ]
  },
  {
   "cell_type": "markdown",
   "id": "07ef83f2",
   "metadata": {},
   "source": [
    "<span style=\"color: #64748b\">Let's check the number of unique data in each column</span>"
   ]
  },
  {
   "cell_type": "code",
   "execution_count": 9,
   "id": "ce66d903",
   "metadata": {},
   "outputs": [],
   "source": [
    "unique_file_name = \"unique.txt\"\n",
    "write_to_file(loan_dataframe.nunique(), unique_file_name)"
   ]
  },
  {
   "cell_type": "markdown",
   "id": "77bfbde0",
   "metadata": {},
   "source": [
    "<h3 style=\"color:#15803d\">Identify Variables</h3>"
   ]
  },
  {
   "cell_type": "markdown",
   "id": "c9cf4597",
   "metadata": {},
   "source": [
    "<h4 style=\"color: #e11d48\">loan_amnt</h4>\n",
    "<span></span>\n"
   ]
  },
  {
   "cell_type": "code",
   "execution_count": 11,
   "id": "b3e4a89f",
   "metadata": {},
   "outputs": [
    {
     "ename": "AttributeError",
     "evalue": "'Series' object has no attribute 'summary'",
     "output_type": "error",
     "traceback": [
      "\u001b[0;31m---------------------------------------------------------------------------\u001b[0m",
      "\u001b[0;31mAttributeError\u001b[0m                            Traceback (most recent call last)",
      "\u001b[0;32m/var/folders/v_/h0pdvpp532d0lg0hswlpv2_00000gq/T/ipykernel_1449/3050998885.py\u001b[0m in \u001b[0;36m<module>\u001b[0;34m\u001b[0m\n\u001b[0;32m----> 1\u001b[0;31m \u001b[0mloan_dataframe\u001b[0m\u001b[0;34m[\u001b[0m\u001b[0;34m'loan_amnt'\u001b[0m\u001b[0;34m]\u001b[0m\u001b[0;34m.\u001b[0m\u001b[0msummary\u001b[0m\u001b[0;34m\u001b[0m\u001b[0;34m\u001b[0m\u001b[0m\n\u001b[0m",
      "\u001b[0;32m~/opt/anaconda3/lib/python3.9/site-packages/pandas/core/generic.py\u001b[0m in \u001b[0;36m__getattr__\u001b[0;34m(self, name)\u001b[0m\n\u001b[1;32m   5485\u001b[0m         ):\n\u001b[1;32m   5486\u001b[0m             \u001b[0;32mreturn\u001b[0m \u001b[0mself\u001b[0m\u001b[0;34m[\u001b[0m\u001b[0mname\u001b[0m\u001b[0;34m]\u001b[0m\u001b[0;34m\u001b[0m\u001b[0;34m\u001b[0m\u001b[0m\n\u001b[0;32m-> 5487\u001b[0;31m         \u001b[0;32mreturn\u001b[0m \u001b[0mobject\u001b[0m\u001b[0;34m.\u001b[0m\u001b[0m__getattribute__\u001b[0m\u001b[0;34m(\u001b[0m\u001b[0mself\u001b[0m\u001b[0;34m,\u001b[0m \u001b[0mname\u001b[0m\u001b[0;34m)\u001b[0m\u001b[0;34m\u001b[0m\u001b[0;34m\u001b[0m\u001b[0m\n\u001b[0m\u001b[1;32m   5488\u001b[0m \u001b[0;34m\u001b[0m\u001b[0m\n\u001b[1;32m   5489\u001b[0m     \u001b[0;32mdef\u001b[0m \u001b[0m__setattr__\u001b[0m\u001b[0;34m(\u001b[0m\u001b[0mself\u001b[0m\u001b[0;34m,\u001b[0m \u001b[0mname\u001b[0m\u001b[0;34m:\u001b[0m \u001b[0mstr\u001b[0m\u001b[0;34m,\u001b[0m \u001b[0mvalue\u001b[0m\u001b[0;34m)\u001b[0m \u001b[0;34m->\u001b[0m \u001b[0;32mNone\u001b[0m\u001b[0;34m:\u001b[0m\u001b[0;34m\u001b[0m\u001b[0;34m\u001b[0m\u001b[0m\n",
      "\u001b[0;31mAttributeError\u001b[0m: 'Series' object has no attribute 'summary'"
     ]
    }
   ],
   "source": [
    "loan_dataframe['loan_amnt'].summary"
   ]
  },
  {
   "cell_type": "markdown",
   "id": "58d32888",
   "metadata": {},
   "source": [
    "<h4 style=\"color: #e11d48\">term</h4>\n",
    "<span>Upon metadata preparation for this dataset, it’s observed that this specific column contains no missing values and is currently categorized as an object datatype. However, as per the column’s purpose, of denoting the loan duration, the appropriate data type should be an integer. As the unique value reveals “36 months” or “60 months”, the initial approach involves converting this column to an integer type. To facilitate this conversion, it’s necessary to trim each data and remove the string “months” suffixed to that data.</span>\n"
   ]
  },
  {
   "cell_type": "code",
   "execution_count": 65,
   "id": "792b6c3a",
   "metadata": {},
   "outputs": [],
   "source": [
    "loan_dataframe['term'] = loan_dataframe['term'].apply(lambda x: x.strip().split(' ')[0])"
   ]
  },
  {
   "cell_type": "code",
   "execution_count": 66,
   "id": "7cfa7e77",
   "metadata": {},
   "outputs": [],
   "source": [
    "loan_dataframe['term'] = loan_dataframe['term'].astype(int)"
   ]
  },
  {
   "cell_type": "markdown",
   "id": "c950d26b",
   "metadata": {},
   "source": [
    "<h4 style=\"color: #e11d48\">int_rate</h4>\n",
    "<span>Similar to the ‘term’ variable, the ‘int_rate’ column is currently labeled as an object type and is appended with a percentage (%) symbol. Ideally, this value should be categorized as a ‘float’. Employing a parallel approach to the ‘term’ column, the process involves removing the suffix string (%), trimming the data, and converting it to a floating-point numeric type for accurate representation.</span>\n"
   ]
  },
  {
   "cell_type": "code",
   "execution_count": 67,
   "id": "b528da68",
   "metadata": {},
   "outputs": [],
   "source": [
    "loan_dataframe['int_rate'] = loan_dataframe['int_rate'].apply(lambda x: x.strip().split('%')[0])"
   ]
  },
  {
   "cell_type": "code",
   "execution_count": 68,
   "id": "eceb2a17",
   "metadata": {},
   "outputs": [],
   "source": [
    "loan_dataframe['int_rate'] = loan_dataframe['term'].astype(float)"
   ]
  },
  {
   "cell_type": "markdown",
   "id": "31394512",
   "metadata": {},
   "source": [
    "<h4 style=\"color: #e11d48\">emp_length</h4>\n",
    "<span>Similar to the ‘term’ variable, the ‘int_rate’ column is currently labeled as an object type and is appended with a percentage (%) symbol. Ideally, this value should be categorized as a ‘float’. Employing a parallel approach to the ‘term’ column, the process involves removing the suffix string (%), trimming the data, and converting it to a floating-point numeric type for accurate representation.</span>\n"
   ]
  },
  {
   "cell_type": "code",
   "execution_count": 14,
   "id": "5ecfd469",
   "metadata": {},
   "outputs": [],
   "source": [
    "loan_dataframe['emp_length'] = loan_dataframe['emp_length'].apply(lambda x: transform_emp_duration(x))"
   ]
  },
  {
   "cell_type": "code",
   "execution_count": 15,
   "id": "7025e7ed",
   "metadata": {},
   "outputs": [],
   "source": [
    "loan_dataframe['emp_length'] = pd.to_numeric(loan_dataframe['emp_length'], errors='coerce').astype(pd.Int64Dtype())"
   ]
  },
  {
   "cell_type": "markdown",
   "id": "bb0067fd",
   "metadata": {},
   "source": [
    "<h4 style=\"color: #e11d48\">home_ownership</h4>\n",
    "<span>This specific column exhibits zero missing values and encompasses 5 unique entries. However, the provided description stipulates that the column should solely contain 'RENT', 'OWN', 'MORTGAGE', and 'OTHER'. Upon inspection, an unexpected entry 'NONE' emerged, identified within three rows. To adhere to the defined categories, 'NONE' was replaced with 'OTHER' considering the encompassing nature of 'NONE', making it suitable for inclusion in the broader 'OTHER' category.</span>\n"
   ]
  },
  {
   "cell_type": "code",
   "execution_count": 70,
   "id": "4e83a06d",
   "metadata": {},
   "outputs": [],
   "source": [
    "loan_dataframe['home_ownership'] = loan_dataframe['home_ownership'].replace('NONE', 'OTHER')"
   ]
  },
  {
   "cell_type": "markdown",
   "id": "aaaf7992",
   "metadata": {},
   "source": [
    "<h4 style=\"color: #e11d48\">zip_code</h4>\n",
    "<span>The dataset's zip code adheres to the \"ABCxxx\" format, where the first three digits represent the \"Sectional Central Facility,\" potentially indicative of the city name. To ascertain city names based on these sectional codes, an additional CSV file is created, housing a list of city names coupled with their corresponding sectional central facility codes. Subsequently, these two datasets are merged to forge a new column named 'city', incorporating city names deduced from the provided sectional central facility codes. And finally the zip_code column is dropped.</span>"
   ]
  },
  {
   "cell_type": "code",
   "execution_count": 71,
   "id": "2bb748f9",
   "metadata": {},
   "outputs": [],
   "source": [
    "scf_dataframe = pd.read_csv('scf.csv')"
   ]
  },
  {
   "cell_type": "code",
   "execution_count": 72,
   "id": "52244de8",
   "metadata": {},
   "outputs": [],
   "source": [
    "loan_dataframe = pd.merge(loan_dataframe, scf_dataframe, on = 'zip_code', how='left')"
   ]
  },
  {
   "cell_type": "code",
   "execution_count": 76,
   "id": "6a6b8b39",
   "metadata": {},
   "outputs": [],
   "source": [
    "loan_dataframe = loan_dataframe.drop(columns=['zip_code'])"
   ]
  },
  {
   "cell_type": "code",
   "execution_count": 54,
   "id": "92ce06ba",
   "metadata": {},
   "outputs": [],
   "source": []
  },
  {
   "cell_type": "code",
   "execution_count": null,
   "id": "855552ce",
   "metadata": {},
   "outputs": [],
   "source": []
  },
  {
   "cell_type": "code",
   "execution_count": null,
   "id": "efcbf6c7",
   "metadata": {},
   "outputs": [],
   "source": []
  },
  {
   "cell_type": "code",
   "execution_count": null,
   "id": "3b9dc731",
   "metadata": {},
   "outputs": [],
   "source": []
  },
  {
   "cell_type": "code",
   "execution_count": null,
   "id": "9600f603",
   "metadata": {},
   "outputs": [],
   "source": []
  }
 ],
 "metadata": {
  "kernelspec": {
   "display_name": "Python 3 (ipykernel)",
   "language": "python",
   "name": "python3"
  },
  "language_info": {
   "codemirror_mode": {
    "name": "ipython",
    "version": 3
   },
   "file_extension": ".py",
   "mimetype": "text/x-python",
   "name": "python",
   "nbconvert_exporter": "python",
   "pygments_lexer": "ipython3",
   "version": "3.9.7"
  }
 },
 "nbformat": 4,
 "nbformat_minor": 5
}
