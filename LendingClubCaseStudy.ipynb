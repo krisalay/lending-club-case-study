{
 "cells": [
  {
   "cell_type": "markdown",
   "id": "d3da42f6",
   "metadata": {},
   "source": [
    "<h1 style=\"color: #0284c7\">Lending Club Case Study</h1>"
   ]
  },
  {
   "cell_type": "markdown",
   "id": "fdce393e",
   "metadata": {},
   "source": [
    "<div style=\"color: #64748b\">\n",
    "<span>Import the essential Python libraries and packages necessary for conducting comprehensive exploratory data analysis (EDA).</span>\n",
    "\n",
    "<span style=\"font-weight: bold\">Pandas</span>\n",
    "<span>An open-source data manipulation library, providing data analysis tools for tasks like cleaning, exploring, and transforming datasets.</span>\n",
    "    \n",
    "<span style=\"font-weight: bold\">Numpy</span>\n",
    "<span>A library for numerical computing that provides support for large, multi-dimensional arrays and matrices, along with a vast collection of high-level mathematical functions to operate on arrays.</span>\n",
    "</div>"
   ]
  },
  {
   "cell_type": "code",
   "execution_count": 1,
   "id": "25af0fe2",
   "metadata": {},
   "outputs": [],
   "source": [
    "import pandas as pd\n",
    "import numpy as np"
   ]
  },
  {
   "cell_type": "markdown",
   "id": "6bc4c93d",
   "metadata": {},
   "source": [
    "<h3 style=\"color:#15803d\">Utilities</h3>"
   ]
  },
  {
   "cell_type": "markdown",
   "id": "05148884",
   "metadata": {},
   "source": [
    "<h4 style=\"color: #e11d48\">write_to_file</h4>\n",
    "<span>The function write_to_file takes in two parameters: data and path. It is designed to write the contents of the data variable to a file located at the path specified.</span>\n"
   ]
  },
  {
   "cell_type": "code",
   "execution_count": 2,
   "id": "486dad75",
   "metadata": {},
   "outputs": [],
   "source": [
    "def write_to_file(data, path):\n",
    "    with open(path, 'w') as file:\n",
    "        file.write(data.to_string())"
   ]
  },
  {
   "cell_type": "markdown",
   "id": "dd6506eb",
   "metadata": {},
   "source": [
    "<h4 style=\"color: #e11d48\">transform_emp_duration</h4>\n",
    "<span>This function takes a string representing employment length and uses conditional statements to convert it into the appropriate numeric value. It handles specific cases for &lt; 1 year and 10+ years. For other cases, it splits the string and extracts the numeric part (years).</span>\n"
   ]
  },
  {
   "cell_type": "code",
   "execution_count": 3,
   "id": "8296b8d6",
   "metadata": {},
   "outputs": [],
   "source": [
    "def transform_emp_duration(duration):\n",
    "    if (pd.isnull(duration)):\n",
    "        return np.nan\n",
    "    duration = duration.strip()\n",
    "    if duration == '< 1 year':\n",
    "        return 0\n",
    "    if duration == '10+ years':\n",
    "        return 10\n",
    "    return int(duration.split()[0])"
   ]
  },
  {
   "cell_type": "markdown",
   "id": "3ffc2aac",
   "metadata": {},
   "source": [
    "<h3 style=\"color:#15803d\">Read Dataset</h3>"
   ]
  },
  {
   "cell_type": "markdown",
   "id": "2c75588d",
   "metadata": {},
   "source": [
    "<span style=\"color: #64748b\">\n",
    "We'll utilize the Pandas library to import and read the 'loan' dataset, stored in CSV format, enabling efficient data handling, manipulation, and analysis.</span>\n",
    "\n",
    "<span style=\"color:#d97706\">**NOTE:** </span><span style=\"color: #64748b\">To ensure seamless execution without errors, the dataset '*loan*' should reside within the same directory as this file.</span>\n",
    "</div>"
   ]
  },
  {
   "cell_type": "code",
   "execution_count": 4,
   "id": "40296122",
   "metadata": {},
   "outputs": [
    {
     "name": "stderr",
     "output_type": "stream",
     "text": [
      "/Users/kumar.k/opt/anaconda3/lib/python3.9/site-packages/IPython/core/interactiveshell.py:3444: DtypeWarning: Columns (47) have mixed types.Specify dtype option on import or set low_memory=False.\n",
      "  exec(code_obj, self.user_global_ns, self.user_ns)\n"
     ]
    }
   ],
   "source": [
    "# Name of the dataset, which will be read by pandas\n",
    "DATASET_NAME = 'loan.csv'\n",
    "loan_dataframe = pd.read_csv(DATASET_NAME)"
   ]
  },
  {
   "cell_type": "markdown",
   "id": "bd0243d1",
   "metadata": {},
   "source": [
    "<h3 style=\"color:#15803d\">Let's undertand the data</h3>"
   ]
  },
  {
   "cell_type": "markdown",
   "id": "872c0b38",
   "metadata": {},
   "source": [
    "<span style=\"color: #64748b\">To comprehensively understand the dataset, we sought to capture the count of rows, columns, and the respective data types associated with each column. As part of this process, the columns and their corresponding data types have been diligently recorded into a file. This file will serve as a foundational resource for generating a metadata document, facilitating a detailed comprehension of each column's characteristics and attributes.</span>\n",
    "\n",
    "<span style=\"color: #64748b\">A comprehensive metadata document has been meticulously generated utilizing this information and saved as 'metadata.xlsx' for future reference and utilization.</span>"
   ]
  },
  {
   "cell_type": "code",
   "execution_count": 5,
   "id": "78a8902b",
   "metadata": {},
   "outputs": [],
   "source": [
    "# File name to store the data types\n",
    "data_types_file_name = 'data_types.txt'\n",
    "\n",
    "# Write data types to a text file\n",
    "write_to_file(loan_dataframe.dtypes, data_types_file_name)"
   ]
  },
  {
   "cell_type": "markdown",
   "id": "da06230f",
   "metadata": {},
   "source": [
    "<span style=\"color: #64748b\">Let's check the number of nulls in each column</span>"
   ]
  },
  {
   "cell_type": "code",
   "execution_count": 6,
   "id": "6380750a",
   "metadata": {},
   "outputs": [
    {
     "data": {
      "text/plain": [
       "id                                0\n",
       "member_id                         0\n",
       "loan_amnt                         0\n",
       "funded_amnt                       0\n",
       "funded_amnt_inv                   0\n",
       "                              ...  \n",
       "tax_liens                        39\n",
       "tot_hi_cred_lim               39717\n",
       "total_bal_ex_mort             39717\n",
       "total_bc_limit                39717\n",
       "total_il_high_credit_limit    39717\n",
       "Length: 111, dtype: int64"
      ]
     },
     "execution_count": 6,
     "metadata": {},
     "output_type": "execute_result"
    }
   ],
   "source": [
    "loan_dataframe.isnull().sum()"
   ]
  },
  {
   "cell_type": "markdown",
   "id": "473a383e",
   "metadata": {},
   "source": [
    "<span style=\"color: #64748b\">Following the earlier command to count null values for each column, it was revealed that numerous columns are empty, while others contain missing data. To enhance the metadata with this crucial information, it's advisable to document these findings into a file for future updates and reference.</span>"
   ]
  },
  {
   "cell_type": "code",
   "execution_count": 7,
   "id": "e5502939",
   "metadata": {},
   "outputs": [],
   "source": [
    "# File name to store the count of null values in each column\n",
    "nulls_file_name = 'nulls.txt'\n",
    "\n",
    "# Write to a text file\n",
    "write_to_file(loan_dataframe.isnull().sum(), nulls_file_name)"
   ]
  },
  {
   "cell_type": "markdown",
   "id": "07ef83f2",
   "metadata": {},
   "source": [
    "<span style=\"color: #64748b\">Let's check the number of unique data in each column</span>"
   ]
  },
  {
   "cell_type": "code",
   "execution_count": 8,
   "id": "ce66d903",
   "metadata": {},
   "outputs": [],
   "source": [
    "unique_file_name = \"unique.txt\"\n",
    "write_to_file(loan_dataframe.nunique(), unique_file_name)"
   ]
  },
  {
   "cell_type": "markdown",
   "id": "77bfbde0",
   "metadata": {},
   "source": [
    "<h3 style=\"color:#15803d\">Identify Variables</h3>"
   ]
  },
  {
   "cell_type": "markdown",
   "id": "58d32888",
   "metadata": {},
   "source": [
    "<h4 style=\"color: #e11d48\">term</h4>\n",
    "<span>Upon metadata preparation for this dataset, it’s observed that this specific column contains no missing values and is currently categorized as an object datatype. However, as per the column’s purpose, of denoting the loan duration, the appropriate data type should be an integer. As the unique value reveals “36 months” or “60 months”, the initial approach involves converting this column to an integer type. To facilitate this conversion, it’s necessary to trim each data and remove the string “months” suffixed to that data.</span>\n"
   ]
  },
  {
   "cell_type": "code",
   "execution_count": 9,
   "id": "792b6c3a",
   "metadata": {},
   "outputs": [],
   "source": [
    "loan_dataframe['term'] = loan_dataframe['term'].apply(lambda x: x.strip().split(' ')[0])"
   ]
  },
  {
   "cell_type": "code",
   "execution_count": 10,
   "id": "7cfa7e77",
   "metadata": {},
   "outputs": [],
   "source": [
    "loan_dataframe['term'] = loan_dataframe['term'].astype(int)"
   ]
  },
  {
   "cell_type": "markdown",
   "id": "c950d26b",
   "metadata": {},
   "source": [
    "<h4 style=\"color: #e11d48\">int_rate</h4>\n",
    "<span>Similar to the ‘term’ variable, the ‘int_rate’ column is currently labeled as an object type and is appended with a percentage (%) symbol. Ideally, this value should be categorized as a ‘float’. Employing a parallel approach to the ‘term’ column, the process involves removing the suffix string (%), trimming the data, and converting it to a floating-point numeric type for accurate representation.</span>\n"
   ]
  },
  {
   "cell_type": "code",
   "execution_count": 11,
   "id": "b528da68",
   "metadata": {},
   "outputs": [],
   "source": [
    "loan_dataframe['int_rate'] = loan_dataframe['int_rate'].apply(lambda x: x.strip().split('%')[0])"
   ]
  },
  {
   "cell_type": "code",
   "execution_count": 12,
   "id": "eceb2a17",
   "metadata": {},
   "outputs": [],
   "source": [
    "loan_dataframe['int_rate'] = loan_dataframe['term'].astype(float)"
   ]
  },
  {
   "cell_type": "markdown",
   "id": "31394512",
   "metadata": {},
   "source": [
    "<h4 style=\"color: #e11d48\">emp_length</h4>\n",
    "<span>Similar to the ‘term’ variable, the ‘int_rate’ column is currently labeled as an object type and is appended with a percentage (%) symbol. Ideally, this value should be categorized as a ‘float’. Employing a parallel approach to the ‘term’ column, the process involves removing the suffix string (%), trimming the data, and converting it to a floating-point numeric type for accurate representation.</span>\n"
   ]
  },
  {
   "cell_type": "code",
   "execution_count": 13,
   "id": "00429f6c",
   "metadata": {},
   "outputs": [
    {
     "data": {
      "text/plain": [
       "0    10+ years\n",
       "1     < 1 year\n",
       "2    10+ years\n",
       "3    10+ years\n",
       "4       1 year\n",
       "5      3 years\n",
       "6      8 years\n",
       "7      9 years\n",
       "8      4 years\n",
       "9     < 1 year\n",
       "Name: emp_length, dtype: object"
      ]
     },
     "execution_count": 13,
     "metadata": {},
     "output_type": "execute_result"
    }
   ],
   "source": [
    "loan_dataframe['emp_length'].head(10)"
   ]
  },
  {
   "cell_type": "code",
   "execution_count": 196,
   "id": "5ecfd469",
   "metadata": {},
   "outputs": [],
   "source": [
    "loan_dataframe['emp_length'] = loan_dataframe['emp_length'].apply(lambda x: transform_emp_duration(x))"
   ]
  },
  {
   "cell_type": "code",
   "execution_count": 198,
   "id": "7025e7ed",
   "metadata": {},
   "outputs": [],
   "source": [
    "loan_dataframe['emp_length'] = pd.to_numeric(loan_dataframe['emp_length'], errors='coerce').astype(pd.Int64Dtype())"
   ]
  },
  {
   "cell_type": "markdown",
   "id": "bb0067fd",
   "metadata": {},
   "source": [
    "<h4 style=\"color: #e11d48\">home_ownership</h4>\n",
    "<span>This specific column exhibits zero missing values and encompasses 5 unique entries. However, the provided description stipulates that the column should solely contain 'RENT', 'OWN', 'MORTGAGE', and 'OTHER'. Upon inspection, an unexpected entry 'NONE' emerged, identified within three rows. To adhere to the defined categories, 'NONE' was replaced with 'OTHER' considering the encompassing nature of 'NONE', making it suitable for inclusion in the broader 'OTHER' category.</span>\n"
   ]
  },
  {
   "cell_type": "code",
   "execution_count": 217,
   "id": "4e83a06d",
   "metadata": {},
   "outputs": [],
   "source": [
    "loan_dataframe['home_ownership'] = loan_dataframe['home_ownership'].replace('NONE', 'OTHER')"
   ]
  },
  {
   "cell_type": "code",
   "execution_count": null,
   "id": "52244de8",
   "metadata": {},
   "outputs": [],
   "source": []
  },
  {
   "cell_type": "code",
   "execution_count": 239,
   "id": "07ed9b0a",
   "metadata": {},
   "outputs": [
    {
     "data": {
      "text/plain": [
       "39712    Our current gutter system on our home is old a...\n",
       "39713    The rate of interest and fees incurred by carr...\n",
       "39714                                                  NaN\n",
       "39715                                                  NaN\n",
       "39716    I plan to consolidate over $7,000 of debt: a c...\n",
       "Name: desc, dtype: object"
      ]
     },
     "execution_count": 239,
     "metadata": {},
     "output_type": "execute_result"
    }
   ],
   "source": [
    "loan_dataframe['desc'].tail(5)"
   ]
  },
  {
   "cell_type": "code",
   "execution_count": 242,
   "id": "66fa677b",
   "metadata": {},
   "outputs": [
    {
     "data": {
      "text/plain": [
       "array(['860xx', '309xx', '606xx', '917xx', '972xx', '852xx', '280xx',\n",
       "       '900xx', '958xx', '774xx', '853xx', '913xx', '245xx', '951xx',\n",
       "       '641xx', '921xx', '067xx', '890xx', '770xx', '335xx', '799xx',\n",
       "       '605xx', '103xx', '150xx', '326xx', '564xx', '141xx', '080xx',\n",
       "       '330xx', '974xx', '934xx', '405xx', '946xx', '445xx', '850xx',\n",
       "       '604xx', '292xx', '088xx', '180xx', '029xx', '700xx', '010xx',\n",
       "       '441xx', '104xx', '061xx', '616xx', '947xx', '914xx', '765xx',\n",
       "       '980xx', '017xx', '752xx', '787xx', '077xx', '540xx', '225xx',\n",
       "       '440xx', '437xx', '559xx', '912xx', '325xx', '300xx', '923xx',\n",
       "       '352xx', '013xx', '146xx', '074xx', '786xx', '937xx', '331xx',\n",
       "       '115xx', '191xx', '114xx', '908xx', '902xx', '992xx', '750xx',\n",
       "       '950xx', '329xx', '226xx', '614xx', '802xx', '672xx', '083xx',\n",
       "       '100xx', '926xx', '931xx', '712xx', '060xx', '707xx', '342xx',\n",
       "       '895xx', '430xx', '919xx', '996xx', '891xx', '935xx', '801xx',\n",
       "       '928xx', '233xx', '927xx', '970xx', '211xx', '303xx', '070xx',\n",
       "       '194xx', '263xx', '403xx', '301xx', '553xx', '993xx', '312xx',\n",
       "       '432xx', '602xx', '216xx', '151xx', '971xx', '305xx', '334xx',\n",
       "       '050xx', '129xx', '925xx', '483xx', '760xx', '961xx', '200xx',\n",
       "       '085xx', '981xx', '601xx', '117xx', '063xx', '920xx', '543xx',\n",
       "       '775xx', '570xx', '038xx', '221xx', '985xx', '113xx', '275xx',\n",
       "       '236xx', '148xx', '028xx', '450xx', '532xx', '729xx', '321xx',\n",
       "       '959xx', '941xx', '955xx', '217xx', '880xx', '660xx', '062xx',\n",
       "       '193xx', '761xx', '857xx', '306xx', '271xx', '142xx', '956xx',\n",
       "       '983xx', '945xx', '109xx', '112xx', '187xx', '630xx', '435xx',\n",
       "       '488xx', '287xx', '705xx', '592xx', '318xx', '549xx', '212xx',\n",
       "       '347xx', '274xx', '265xx', '785xx', '027xx', '089xx', '813xx',\n",
       "       '069xx', '260xx', '201xx', '349xx', '322xx', '075xx', '124xx',\n",
       "       '940xx', '967xx', '111xx', '773xx', '997xx', '076xx', '538xx',\n",
       "       '021xx', '304xx', '234xx', '308xx', '809xx', '071xx', '363xx',\n",
       "       '296xx', '240xx', '830xx', '011xx', '622xx', '207xx', '140xx',\n",
       "       '336xx', '619xx', '208xx', '618xx', '014xx', '644xx', '283xx',\n",
       "       '276xx', '631xx', '243xx', '960xx', '181xx', '922xx', '224xx',\n",
       "       '975xx', '105xx', '986xx', '218xx', '652xx', '782xx', '410xx',\n",
       "       '480xx', '328xx', '719xx', '982xx', '065xx', '081xx', '954xx',\n",
       "       '346xx', '442xx', '025xx', '122xx', '173xx', '282xx', '120xx',\n",
       "       '082xx', '766xx', '229xx', '840xx', '744xx', '933xx', '451xx',\n",
       "       '907xx', '728xx', '159xx', '333xx', '293xx', '701xx', '984xx',\n",
       "       '811xx', '597xx', '957xx', '165xx', '720xx', '119xx', '359xx',\n",
       "       '195xx', '084xx', '969xx', '924xx', '531xx', '716xx', '337xx',\n",
       "       '841xx', '323xx', '740xx', '179xx', '805xx', '285xx', '551xx',\n",
       "       '658xx', '944xx', '232xx', '905xx', '600xx', '327xx', '711xx',\n",
       "       '906xx', '444xx', '856xx', '777xx', '072xx', '554xx', '145xx',\n",
       "       '537xx', '152xx', '847xx', '295xx', '829xx', '320xx', '131xx',\n",
       "       '939xx', '572xx', '281xx', '064xx', '550xx', '078xx', '452xx',\n",
       "       '778xx', '313xx', '851xx', '784xx', '804xx', '571xx', '210xx',\n",
       "       '988xx', '400xx', '995xx', '023xx', '158xx', '657xx', '016xx',\n",
       "       '019xx', '290xx', '190xx', '366xx', '066xx', '991xx', '968xx',\n",
       "       '721xx', '439xx', '640xx', '546xx', '024xx', '751xx', '431xx',\n",
       "       '741xx', '904xx', '156xx', '316xx', '299xx', '087xx', '739xx',\n",
       "       '949xx', '261xx', '073xx', '222xx', '244xx', '617xx', '018xx',\n",
       "       '286xx', '759xx', '952xx', '930xx', '911xx', '220xx', '731xx',\n",
       "       '730xx', '262xx', '338xx', '160xx', '031xx', '054xx', '223xx',\n",
       "       '272xx', '882xx', '557xx', '797xx', '725xx', '130xx', '030xx',\n",
       "       '206xx', '324xx', '170xx', '291xx', '161xx', '647xx', '916xx',\n",
       "       '665xx', '209xx', '915xx', '110xx', '086xx', '484xx', '844xx',\n",
       "       '020xx', '354xx', '448xx', '978xx', '757xx', '953xx', '577xx',\n",
       "       '315xx', '664xx', '186xx', '182xx', '574xx', '800xx', '197xx',\n",
       "       '137xx', '314xx', '755xx', '973xx', '603xx', '481xx', '780xx',\n",
       "       '894xx', '341xx', '361xx', '178xx', '068xx', '565xx', '611xx',\n",
       "       '288xx', '443xx', '662xx', '874xx', '560xx', '535xx', '499xx',\n",
       "       '162xx', '756xx', '168xx', '827xx', '541xx', '615xx', '989xx',\n",
       "       '037xx', '863xx', '339xx', '367xx', '273xx', '052xx', '623xx',\n",
       "       '416xx', '648xx', '918xx', '436xx', '898xx', '674xx', '496xx',\n",
       "       '294xx', '762xx', '128xx', '903xx', '932xx', '650xx', '246xx',\n",
       "       '633xx', '666xx', '228xx', '015xx', '302xx', '573xx', '118xx',\n",
       "       '998xx', '767xx', '490xx', '350xx', '591xx', '254xx', '566xx',\n",
       "       '596xx', '637xx', '032xx', '763xx', '494xx', '402xx', '545xx',\n",
       "       '184xx', '239xx', '977xx', '297xx', '284xx', '144xx', '748xx',\n",
       "       '310xx', '147xx', '153xx', '544xx', '948xx', '576xx', '976xx',\n",
       "       '107xx', '846xx', '344xx', '351xx', '754xx', '910xx', '656xx',\n",
       "       '357xx', '791xx', '493xx', '855xx', '278xx', '125xx', '175xx',\n",
       "       '530xx', '171xx', '703xx', '620xx', '438xx', '626xx', '307xx',\n",
       "       '636xx', '319xx', '116xx', '645xx', '708xx', '816xx', '625xx',\n",
       "       '133xx', '612xx', '238xx', '166xx', '231xx', '241xx', '826xx',\n",
       "       '783xx', '793xx', '646xx', '188xx', '108xx', '653xx', '871xx',\n",
       "       '057xx', '796xx', '990xx', '219xx', '724xx', '456xx', '214xx',\n",
       "       '237xx', '737xx', '121xx', '199xx', '548xx', '453xx', '704xx',\n",
       "       '368xx', '828xx', '598xx', '136xx', '610xx', '433xx', '722xx',\n",
       "       '743xx', '810xx', '706xx', '235xx', '139xx', '613xx', '454xx',\n",
       "       '317xx', '746xx', '446xx', '486xx', '033xx', '279xx', '407xx',\n",
       "       '803xx', '794xx', '457xx', '189xx', '196xx', '539xx', '424xx',\n",
       "       '492xx', '482xx', '667xx', '845xx', '608xx', '401xx', '362xx',\n",
       "       '627xx', '717xx', '356xx', '607xx', '963xx', '198xx', '936xx',\n",
       "       '713xx', '227xx', '883xx', '563xx', '893xx', '079xx', '806xx',\n",
       "       '360xx', '172xx', '422xx', '768xx', '034xx', '735xx', '870xx',\n",
       "       '012xx', '594xx', '215xx', '628xx', '749xx', '101xx', '814xx',\n",
       "       '255xx', '745xx', '495xx', '132xx', '183xx', '864xx', '106xx',\n",
       "       '663xx', '943xx', '094xx', '177xx', '365xx', '897xx', '776xx',\n",
       "       '843xx', '458xx', '421xx', '253xx', '795xx', '727xx', '528xx',\n",
       "       '270xx', '808xx', '277xx', '447xx', '358xx', '815xx', '250xx',\n",
       "       '230xx', '790xx', '884xx', '242xx', '534xx', '404xx', '397xx',\n",
       "       '434xx', '671xx', '655xx', '675xx', '053xx', '859xx', '126xx',\n",
       "       '102xx', '256xx', '673xx', '489xx', '258xx', '423xx', '497xx',\n",
       "       '788xx', '127xx', '176xx', '380xx', '058xx', '635xx', '498xx',\n",
       "       '820xx', '599xx', '822xx', '638xx', '723xx', '449xx', '420xx',\n",
       "       '157xx', '726xx', '185xx', '527xx', '298xx', '769xx', '257xx',\n",
       "       '881xx', '575xx', '624xx', '134xx', '877xx', '781xx', '718xx',\n",
       "       '670xx', '138xx', '026xx', '678xx', '398xx', '411xx', '149xx',\n",
       "       '247xx', '875xx', '838xx', '651xx', '364xx', '203xx', '427xx',\n",
       "       '629xx', '355xx', '174xx', '547xx', '567xx', '558xx', '135xx',\n",
       "       '035xx', '999xx', '634xx', '455xx', '143xx', '154xx', '562xx',\n",
       "       '779xx', '561xx', '734xx', '789xx', '812xx', '268xx', '051xx',\n",
       "       '865xx', '406xx', '661xx', '758xx', '676xx', '491xx', '267xx',\n",
       "       '609xx', '595xx', '259xx', '163xx', '264xx', '409xx', '376xx',\n",
       "       '471xx', '375xx', '747xx', '123xx', '714xx', '590xx', '639xx',\n",
       "       '412xx', '425xx', '022xx', '369xx', '164xx', '825xx', '266xx',\n",
       "       '096xx', '487xx', '251xx', '593xx', '169xx', '413xx', '155xx',\n",
       "       '764xx', '710xx', '408xx', '668xx', '056xx', '669xx', '167xx',\n",
       "       '542xx', '679xx', '462xx', '792xx', '824xx', '249xx', '798xx',\n",
       "       '370xx', '485xx', '654xx', '289xx', '807xx', '252xx', '556xx',\n",
       "       '353xx', '677xx', '090xx', '371xx', '831xx', '736xx', '007xx',\n",
       "       '332xx', '468xx', '461xx', '093xx', '248xx', '463xx', '391xx',\n",
       "       '381xx', '415xx', '378xx', '414xx', '396xx', '836xx', '044xx',\n",
       "       '392xx', '772xx', '374xx', '823xx', '395xx', '394xx', '965xx',\n",
       "       '390xx', '388xx', '386xx', '040xx', '385xx', '379xx', '681xx',\n",
       "       '837xx', '373xx', '753xx', '834xx', '383xx', '384xx', '372xx',\n",
       "       '833xx', '522xx', '523xx', '474xx', '465xx', '689xx', '473xx',\n",
       "       '041xx', '685xx', '479xx', '469xx'], dtype=object)"
      ]
     },
     "execution_count": 242,
     "metadata": {},
     "output_type": "execute_result"
    }
   ],
   "source": [
    "loan_dataframe['zip_code'].unique()"
   ]
  },
  {
   "cell_type": "code",
   "execution_count": null,
   "id": "15f3035e",
   "metadata": {},
   "outputs": [],
   "source": []
  }
 ],
 "metadata": {
  "kernelspec": {
   "display_name": "Python 3 (ipykernel)",
   "language": "python",
   "name": "python3"
  },
  "language_info": {
   "codemirror_mode": {
    "name": "ipython",
    "version": 3
   },
   "file_extension": ".py",
   "mimetype": "text/x-python",
   "name": "python",
   "nbconvert_exporter": "python",
   "pygments_lexer": "ipython3",
   "version": "3.9.7"
  }
 },
 "nbformat": 4,
 "nbformat_minor": 5
}
